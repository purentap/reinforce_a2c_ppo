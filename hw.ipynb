{
 "cells": [
  {
   "cell_type": "markdown",
   "metadata": {},
   "source": [
    "## Policy Gradient\n",
    "\n",
    "The general organization of the homework is given below.\n",
    "\n",
    "- pg\n",
    "    - reinforce\n",
    "        - model\n",
    "        - cartpole\n",
    "    - a2c\n",
    "        - model\n",
    "        - vecenv\n",
    "        - box2d\n",
    "        - pong\n",
    "    - ppo\n",
    "        - model\n",
    "        - box2d\n",
    "        - walker\n",
    "    - common\n",
    "\n",
    "In this homework, you will implement REINFORCE, A2C, and PPO agents and run these agents in CartPole, LunarLander, Pong, and BipedalWalker environments.\n",
    "\n",
    "### Running\n",
    "\n",
    "Each experiment will be trained from scratch with 3 different seeds (except for Pong) to have a good understanding of the stochasticity involved in the training. You can run your experiments with command-line arguments from the jupyter notebook as shown below or using a bash script.\n"
   ]
  },
  {
   "cell_type": "code",
   "execution_count": null,
   "metadata": {
    "ExecuteTime": {
     "end_time": "2021-05-26T18:16:42.746345Z",
     "start_time": "2021-05-26T18:16:38.889016Z"
    }
   },
   "outputs": [],
   "source": [
    "!python pg/a2c/box2d.py --nenv 16 --log-dir log/a2c_lunar"
   ]
  },
  {
   "cell_type": "markdown",
   "metadata": {},
   "source": [
    "\n",
    "You should obtain scores higher than below:\n",
    "- CartPole: 400\n",
    "- LunarLander: 200\n",
    "- BipedalWalker: 100\n",
    "- Pong: 10\n",
    "\n",
    "The default hyperparameters are not tuned but tested and they work well. However, hyperparemeters are sensitive to implementation details and hence you may need to tune them if you feel the need."
   ]
  },
  {
   "cell_type": "markdown",
   "metadata": {},
   "source": [
    "By default, the log file (named: progress.csv) will be saved in a temporary file if ```--log_dir``` CL argument is not given. You can use the csv file to obtain a Pandas dataframe object. Using the dataframe object, you can visualize the training with the given visualization script."
   ]
  },
  {
   "cell_type": "markdown",
   "metadata": {
    "ExecuteTime": {
     "end_time": "2021-05-26T21:05:22.170741Z",
     "start_time": "2021-05-26T21:05:22.168527Z"
    }
   },
   "source": [
    "### Submission"
   ]
  },
  {
   "cell_type": "markdown",
   "metadata": {},
   "source": [
    "Submission should include logs and models folders.\n",
    "\n",
    "Example log folder:\n",
    "- log\n",
    "    - a2c_lunar\n",
    "        - 05-23-2021-00-01-02\n",
    "        - 05-23-2021-01-02-02\n",
    "        - 05-23-2021-02-03-02\n",
    "    - a2c_pong\n",
    "        - 05-23-2021-03-01-02\n",
    "    - ppo_lunar\n",
    "        - 05-23-2021-04-01-02\n",
    "        - 05-23-2021-05-02-02\n",
    "        - 05-23-2021-06-03-02\n",
    "    - ppo_walker\n",
    "        - 05-23-2021-07-01-02\n",
    "        - 05-23-2021-08-02-02\n",
    "        - 05-23-2021-09-03-02\n",
    "    - reinforce_cartpole\n",
    "        - 05-23-2021-10-01-02\n",
    "        - 05-23-2021-11-02-02\n",
    "        - 05-23-2021-12-03-02\n",
    "        \n",
    "As long as you use CL argument ```--log-dir``` with the values such as ```log/a2c_lunar```, the folder will be filled automatically."
   ]
  },
  {
   "cell_type": "markdown",
   "metadata": {},
   "source": [
    "### Plotting\n",
    "\n",
    "When you are done with experiments, you can plot the statistics. As long as the number of rows in every log within the given directory matches ```Plotter``` draws the statistics of the runs. For example, if you have 3 runs for a certain experiment, ```Plotter``` draws a mean curve and a shaded region of the area between the $\\alpha$ and $1-\\alpha$ quantiles of the runs.\n",
    "\n",
    "Below is an example plotting code."
   ]
  },
  {
   "cell_type": "code",
   "execution_count": null,
   "metadata": {},
   "outputs": [],
   "source": [
    "import os\n",
    "import pandas as pd\n",
    "from pg.visualize import Plotter\n",
    "\n",
    "log_dir = os.path.join(\"log\", \"a2c_lunar\")\n",
    "df_dict = {\n",
    "    \"lunar a2c\": [pd.read_csv(os.path.join(log_dir, folder, \"progress.csv\"))\n",
    "                for folder in os.listdir(log_dir)]\n",
    "}\n",
    "\n",
    "plotter = Plotter(df_dict)\n",
    "plotter()"
   ]
  },
  {
   "cell_type": "markdown",
   "metadata": {
    "ExecuteTime": {
     "end_time": "2021-05-26T18:17:47.746506Z",
     "start_time": "2021-05-26T18:17:47.744173Z"
    }
   },
   "source": [
    "## Instructions"
   ]
  },
  {
   "cell_type": "markdown",
   "metadata": {},
   "source": [
    "### Reinforce\n",
    "\n",
    "The implementation of REINFORCE is pretty simple. There are two python scripts and we begin with filling the \"model.py\" script. Since you are familiar with REINFORCE, we can start implementing the ```learn``` method in the ```Reinforce``` class. It accepts ```args```, ```opt```, and ```env``` as parameters. We loop as many episodes as stated in the argument ```args.n_episodes``` and collect rollouts to update the policy parameters. Note that, if an episode does not terminate in ```args.max_episode_len``` many steps, we terminate it manually.\n",
    "\n",
    "We need to obtain a rollout that consists of a list of transitions. Each transition in the rollout needs to include the log probability of the selected (and performed) action and the intermediate reward. We expect from the ```policynet``` to return a Categorical distribution of the actions for a given state whenever the forward method is called. At each iteration in an episode, use the action distribution to sample action and step the environment with it. Store the log probability of the sampled action and the intermediate reward in a ```Transition``` object. The rollout is a list of ```Transition```s created during the episode. \n",
    "\n",
    "When we have the rollout, we can calculate gradients with respect to the policy parameters. Fill the missing part in ```accumulate_gradient```. Don't forget to call ```.backward()``` for each log probability to minimize the negative log-likelihood. Note that, we do not update the parameters in this method but only calculate the gradients.\n",
    "\n",
    "Now, fill the ```cartpole.py``` script. Fill the missing parts in the ```PolicyNet``` class so that it can return a categorical distribution for a given state.\n",
    "\n",
    "After the implementation is completed, you can run the experiments. Don't forget to tune the hyperparameters as they affect the performance of the training.\n",
    "\n",
    "### Experiments\n",
    "\n",
    "- Run REINFORCE in CartPole-v1 (Reach at least +400 mean reward for the last 20 episodes)\n",
    "\n",
    "\n",
    "By default, the writer logs the mean reward of the last 20 episodes. This can be changed by overwriting --log-window-length command-line argument.\n",
    "\n",
    "Plot the results. Also, please **keep** the ```progress.csv``` files as shown under the submission section above."
   ]
  },
  {
   "cell_type": "markdown",
   "metadata": {},
   "source": [
    "#### used seeds:\n",
    "- 42\n",
    "- 5555\n",
    "- 7"
   ]
  },
  {
   "cell_type": "code",
   "execution_count": 38,
   "metadata": {},
   "outputs": [
    {
     "name": "stdout",
     "output_type": "stream",
     "text": [
      "/home/puren/miniconda3/envs/rlhw3/lib/python3.7/site-packages/gym/core.py:173: DeprecationWarning: \u001b[33mWARN: Function `env.seed(seed)` is marked as deprecated and will be removed in the future. Please use `env.reset(seed=seed) instead.\u001b[0m\n",
      "  \"Function `env.seed(seed)` is marked as deprecated and will be removed in the future. \"\n",
      "Logging at: log/reinforce_cartpole/05-23-2024-14-29-42\n",
      "Episode   :     20, Reward    :  22.75\n",
      "Episode   :     40, Reward    :   29.7\n",
      "Episode   :     60, Reward    :   30.3\n",
      "Episode   :     80, Reward    :  42.95\n",
      "Episode   :    100, Reward    :   47.5\n",
      "Episode   :    120, Reward    :   53.1\n",
      "Episode   :    140, Reward    :  55.65\n",
      "Episode   :    160, Reward    :   64.6\n",
      "Episode   :    180, Reward    :  72.05\n",
      "Episode   :    200, Reward    :   89.3\n",
      "Episode   :    220, Reward    :   96.7\n",
      "Episode   :    240, Reward    :  186.1\n",
      "Episode   :    260, Reward    : 173.85\n",
      "Episode   :    280, Reward    :  119.8\n",
      "Episode   :    300, Reward    : 159.35\n",
      "Episode   :    320, Reward    : 325.05\n",
      "Episode   :    340, Reward    :  215.0\n",
      "Episode   :    360, Reward    :  103.9\n",
      "Episode   :    380, Reward    :  170.5\n",
      "Episode   :    400, Reward    :  396.6\n",
      "Episode   :    420, Reward    :  174.8\n",
      "Episode   :    440, Reward    : 149.35\n",
      "Episode   :    460, Reward    : 149.55\n",
      "Episode   :    480, Reward    : 199.85\n",
      "Episode   :    500, Reward    :  218.4\n",
      "Episode   :    520, Reward    : 140.55\n",
      "Episode   :    540, Reward    :  113.3\n",
      "Episode   :    560, Reward    :  211.4\n",
      "Episode   :    580, Reward    :  203.3\n",
      "Episode   :    600, Reward    : 117.35\n",
      "Episode   :    620, Reward    : 245.05\n",
      "Episode   :    640, Reward    :  234.8\n",
      "Episode   :    660, Reward    :  341.1\n",
      "Episode   :    680, Reward    :  500.0\n",
      "Episode   :    700, Reward    :  500.0\n",
      "Episode   :    720, Reward    : 408.75\n",
      "Episode   :    740, Reward    : 283.45\n",
      "Episode   :    760, Reward    :  371.0\n",
      "Episode   :    780, Reward    :  487.4\n",
      "Episode   :    800, Reward    : 367.05\n",
      "Episode   :    820, Reward    : 433.25\n",
      "Episode   :    840, Reward    :  476.2\n",
      "Episode   :    860, Reward    :  430.3\n",
      "Episode   :    880, Reward    : 438.55\n",
      "Episode   :    900, Reward    : 353.15\n",
      "Episode   :    920, Reward    : 496.25\n",
      "Episode   :    940, Reward    : 468.85\n",
      "Episode   :    960, Reward    :  478.1\n",
      "Episode   :    980, Reward    :  436.0\n",
      "Episode   :   1000, Reward    : 424.55\n"
     ]
    }
   ],
   "source": [
    "!python pg/reinforce/cartpole.py --seed 7 --log-dir log/reinforce_cartpole"
   ]
  },
  {
   "cell_type": "code",
   "execution_count": 40,
   "metadata": {},
   "outputs": [
    {
     "data": {
      "application/vnd.jupyter.widget-view+json": {
       "model_id": "c45b1be4032d4d7e8046ff1cebf41ff3",
       "version_major": 2,
       "version_minor": 0
      },
      "text/plain": [
       "VBox(children=(Dropdown(description='X axis', options=('Episode',), value=None), Dropdown(description='Y axis'…"
      ]
     },
     "execution_count": 40,
     "metadata": {},
     "output_type": "execute_result"
    }
   ],
   "source": [
    "import os\n",
    "import pandas as pd\n",
    "from pg.visualize import Plotter\n",
    "\n",
    "# Plot Experiment 1\n",
    "log_dir = os.path.join(\"log\", \"reinforce_cartpole\")\n",
    "df_dict = {\n",
    "    \"reinforce cartpole\": [pd.read_csv(os.path.join(log_dir, folder, \"progress.csv\"))\n",
    "                for folder in os.listdir(log_dir)]\n",
    "}\n",
    "plotter = Plotter(df_dict)\n",
    "plotter()"
   ]
  },
  {
   "cell_type": "markdown",
   "metadata": {},
   "source": [
    "### A2C Implementation\n",
    "\n",
    "A2C is a synchronized version of the popular A3C algorithm. The synchronization is done via a wrapper that runs multiple environments in parallel. We use the wrapper provided in ```pg/ac2/vecenv.py``` script. Unlike in REINFORCE algorithm, we do not collect rollouts until the termination. Instead, the rollouts in A2C consist of fixed length transitions in parallel.\n",
    "\n",
    "Although you do not need to fill ```pg/ac2/vecenv.py``` please take a look to understand the vectorization of the environments. \n",
    "\n",
    "Before starting, you may want to check ```learn``` method in the ```pg/ac2/model.py``` script to observe the overall structure of the algorithm.\n",
    "\n",
    "#### Model\n",
    "\n",
    "Fill the missing part in ```forward``` method in ```pg/ac2/model.py``` script. You may want to check the return value of the network at ```pg/ac2/box2d.py``` to know what to expect when you call ```self.network(.)``` in the ```forward``` method. We want to sample actions and calculate the log probabilities of these actions as well as the entropy of the action distribution to use them later in the parameter update.\n",
    "\n",
    "Next, you need to fill ```collect_rollout``` method in the ```pg/ac2/model.py``` script. This is the method that collects ```args.n-step``` many transitions in parallel to make a rollout. Note that, you need to calculate the value of the last state (the one that is returned by the ```step``` function at the end of the rollout) so that we can calculate the target value later. Combining the list of transitions and the value of the last state you can form a ```Rollout``` object. We also return the last state and the last gru hidden state for future calls.\n",
    "\n",
    "We continue filling with ```calculate_gae``` method in the ```pg/ac2/model.py``` script. You need to read GAE paper before implementing this part. This method returns a list of advantages and a list of returns (the capital letter G in the book notation). We will use the advantages to calculate the policy loss and use returns to calculate value loss.\n",
    "\n",
    "Now we have a rollout and a list of advantages and returns, we can calculate a loss and update the parameters. Fill ```parameter_update``` method in the ```pg/ac2/model.py``` script. You can use ```rollout_data_loader``` method to obtain flatten tensors.\n",
    "\n",
    "Finally, fill the ```evaluate``` method that runs the policy for multiple episodes to obtain an average score. We use this method to measure the performance of a trained agent. Now that we filled all of the missing parts, we can observe how they come together in the ```learn``` method at ```pg/ac2/model.py```.\n",
    "\n",
    "#### Box2d\n",
    "\n",
    "Now we need to create a neural network that represents the policy and the value functions. Unlike before, we will use a recurrent layer (GRU layer). That is why we have additional tensors like ```gru_hx``` in the ```forward``` and ```collect_rollout``` methods. We assume a familiarity with the recurrent networks for this part.\n",
    "\n",
    "Start filling the ```__init__``` method. You can use separate networks to represent the policy and the value functions or a shared feature network and two separate head layers. Next, fill the ```forward``` method. Remember to return policy logits (no nonlinearity so that you can use them in the ```forward``` method in the ```pg/ac2/model.py``` script to create a Categorical distribution), value (no nonlinearity), and the hidden vector for the GRU layer. The Categorical distribution will be created in the ```A2C``` class and not within the ```network```.\n",
    "\n",
    "COMMON MISTAKE HINT: Notice that there are two (or maybe even more) different functions in PyTorch for GRU; ```torch.nn.GRU``` and ```torch.nn.GRUCell```, but only one of them is suitable as a layer. Please read the documentation and select the suitable one for our ```pg/ac2/box2d.py```.\n",
    "\n",
    "#### Pong\n",
    "\n",
    "Pong is a visual domain, so you may want to use convolutional layers (not mandatory). Other than that, there is only a handful of differences between the Pong network and the box2d network. We use simple environment wrappers that are designed specifically for the Pong environment. You don't have to use a GPU in this experiment as it trains quite fast given the implementation is correct.\n",
    "\n",
    "\n",
    "#### Experiments\n",
    "When you complete all the implementations mentioned above, you can start experimenting (and debugging) with  LunarLander and Pong environments.\n",
    "\n",
    "We will run two experiments.\n",
    "\n",
    "- Run A2C in LunarLander-v2 (Reach at least +200 mean reward for the last 20 episodes)\n",
    "- Run A2C in Pong (Reach at least 10 mean reward for the last 20 episodes) (a single seed is enough)\n",
    "\n",
    "Plot these results (2 Plots). Also **keep** the ```.csv``` files and the models (you can leave a Google Drive link for the model files if you can not submit them through Ninova)."
   ]
  },
  {
   "cell_type": "markdown",
   "metadata": {},
   "source": [
    "**seeds used** :\n",
    "- 42 \n",
    "- 555\n",
    "- 7 "
   ]
  },
  {
   "cell_type": "code",
   "execution_count": 17,
   "metadata": {
    "scrolled": false
   },
   "outputs": [
    {
     "name": "stdout",
     "output_type": "stream",
     "text": [
      "Logging at: ./log/a2c_lunar/05-26-2024-14-56-06\n",
      "/home/puren/miniconda3/envs/rlhw3/lib/python3.7/site-packages/gym/core.py:173: DeprecationWarning: \u001b[33mWARN: Function `env.seed(seed)` is marked as deprecated and will be removed in the future. Please use `env.reset(seed=seed) instead.\u001b[0m\n",
      "  \"Function `env.seed(seed)` is marked as deprecated and will be removed in the future. \"\n",
      "/home/puren/miniconda3/envs/rlhw3/lib/python3.7/site-packages/gym/core.py:173: DeprecationWarning: \u001b[33mWARN: Function `env.seed(seed)` is marked as deprecated and will be removed in the future. Please use `env.reset(seed=seed) instead.\u001b[0m\n",
      "  \"Function `env.seed(seed)` is marked as deprecated and will be removed in the future. \"\n",
      "/home/puren/miniconda3/envs/rlhw3/lib/python3.7/site-packages/gym/core.py:173: DeprecationWarning: \u001b[33mWARN: Function `env.seed(seed)` is marked as deprecated and will be removed in the future. Please use `env.reset(seed=seed) instead.\u001b[0m\n",
      "  \"Function `env.seed(seed)` is marked as deprecated and will be removed in the future. \"\n",
      "/home/puren/miniconda3/envs/rlhw3/lib/python3.7/site-packages/gym/core.py:173: DeprecationWarning: \u001b[33mWARN: Function `env.seed(seed)` is marked as deprecated and will be removed in the future. Please use `env.reset(seed=seed) instead.\u001b[0m\n",
      "  \"Function `env.seed(seed)` is marked as deprecated and will be removed in the future. \"\n",
      "/home/puren/miniconda3/envs/rlhw3/lib/python3.7/site-packages/gym/core.py:173: DeprecationWarning: \u001b[33mWARN: Function `env.seed(seed)` is marked as deprecated and will be removed in the future. Please use `env.reset(seed=seed) instead.\u001b[0m\n",
      "  \"Function `env.seed(seed)` is marked as deprecated and will be removed in the future. \"\n",
      "/home/puren/miniconda3/envs/rlhw3/lib/python3.7/site-packages/gym/core.py:173: DeprecationWarning: \u001b[33mWARN: Function `env.seed(seed)` is marked as deprecated and will be removed in the future. Please use `env.reset(seed=seed) instead.\u001b[0m\n",
      "  \"Function `env.seed(seed)` is marked as deprecated and will be removed in the future. \"\n",
      "/home/puren/miniconda3/envs/rlhw3/lib/python3.7/site-packages/gym/core.py:173: DeprecationWarning: \u001b[33mWARN: Function `env.seed(seed)` is marked as deprecated and will be removed in the future. Please use `env.reset(seed=seed) instead.\u001b[0m\n",
      "  \"Function `env.seed(seed)` is marked as deprecated and will be removed in the future. \"\n",
      "/home/puren/miniconda3/envs/rlhw3/lib/python3.7/site-packages/gym/core.py:173: DeprecationWarning: \u001b[33mWARN: Function `env.seed(seed)` is marked as deprecated and will be removed in the future. Please use `env.reset(seed=seed) instead.\u001b[0m\n",
      "  \"Function `env.seed(seed)` is marked as deprecated and will be removed in the future. \"\n",
      "/home/puren/miniconda3/envs/rlhw3/lib/python3.7/site-packages/gym/core.py:173: DeprecationWarning: \u001b[33mWARN: Function `env.seed(seed)` is marked as deprecated and will be removed in the future. Please use `env.reset(seed=seed) instead.\u001b[0m\n",
      "  \"Function `env.seed(seed)` is marked as deprecated and will be removed in the future. \"\n",
      "/home/puren/miniconda3/envs/rlhw3/lib/python3.7/site-packages/gym/core.py:173: DeprecationWarning: \u001b[33mWARN: Function `env.seed(seed)` is marked as deprecated and will be removed in the future. Please use `env.reset(seed=seed) instead.\u001b[0m\n",
      "  \"Function `env.seed(seed)` is marked as deprecated and will be removed in the future. \"\n",
      "/home/puren/miniconda3/envs/rlhw3/lib/python3.7/site-packages/gym/core.py:173: DeprecationWarning: \u001b[33mWARN: Function `env.seed(seed)` is marked as deprecated and will be removed in the future. Please use `env.reset(seed=seed) instead.\u001b[0m\n",
      "  \"Function `env.seed(seed)` is marked as deprecated and will be removed in the future. \"\n",
      "/home/puren/miniconda3/envs/rlhw3/lib/python3.7/site-packages/gym/core.py:173: DeprecationWarning: \u001b[33mWARN: Function `env.seed(seed)` is marked as deprecated and will be removed in the future. Please use `env.reset(seed=seed) instead.\u001b[0m\n",
      "  \"Function `env.seed(seed)` is marked as deprecated and will be removed in the future. \"\n",
      "/home/puren/miniconda3/envs/rlhw3/lib/python3.7/site-packages/gym/core.py:173: DeprecationWarning: \u001b[33mWARN: Function `env.seed(seed)` is marked as deprecated and will be removed in the future. Please use `env.reset(seed=seed) instead.\u001b[0m\n",
      "  \"Function `env.seed(seed)` is marked as deprecated and will be removed in the future. \"\n",
      "/home/puren/miniconda3/envs/rlhw3/lib/python3.7/site-packages/gym/core.py:173: DeprecationWarning: \u001b[33mWARN: Function `env.seed(seed)` is marked as deprecated and will be removed in the future. Please use `env.reset(seed=seed) instead.\u001b[0m\n",
      "  \"Function `env.seed(seed)` is marked as deprecated and will be removed in the future. \"\n",
      "/home/puren/miniconda3/envs/rlhw3/lib/python3.7/site-packages/gym/core.py:173: DeprecationWarning: \u001b[33mWARN: Function `env.seed(seed)` is marked as deprecated and will be removed in the future. Please use `env.reset(seed=seed) instead.\u001b[0m\n",
      "  \"Function `env.seed(seed)` is marked as deprecated and will be removed in the future. \"\n",
      "pg/a2c/box2d.py:85: FutureWarning: arrays to stack must be passed as a \"sequence\" type such as list or tuple. Support for non-sequence iterables such as generators is deprecated as of NumPy 1.16 and will raise an error in the future.\n",
      "  agent.learn()\n",
      "/home/puren/miniconda3/envs/rlhw3/lib/python3.7/site-packages/gym/core.py:173: DeprecationWarning: \u001b[33mWARN: Function `env.seed(seed)` is marked as deprecated and will be removed in the future. Please use `env.reset(seed=seed) instead.\u001b[0m\n",
      "  \"Function `env.seed(seed)` is marked as deprecated and will be removed in the future. \"\n",
      "timestep  :   7920, episodic_reward: -278.9000823446424, value_loss: 14.44849967956543, policy_loss: -5.089482307434082, entropy_loss: 0.13659733533859253\n",
      "timestep  :  15920, episodic_reward: -235.9724888106865, value_loss: 356.65753173828125, policy_loss: -9.353042602539062, entropy_loss: 0.12227044254541397\n",
      "timestep  :  23920, episodic_reward: -224.94225692933855, value_loss: 8.235170364379883, policy_loss: -2.1769068241119385, entropy_loss: 0.1276080459356308\n",
      "timestep  :  31920, episodic_reward: -234.1022606854906, value_loss: 28.437313079833984, policy_loss: -1.206354022026062, entropy_loss: 0.12419482320547104\n",
      "timestep  :  39920, episodic_reward: -208.3162752802233, value_loss: 238.23867797851562, policy_loss: -11.579249382019043, entropy_loss: 0.13276956975460052\n",
      "timestep  :  47920, episodic_reward: -282.79094092004823, value_loss: 29.868804931640625, policy_loss: -7.232956886291504, entropy_loss: 0.1346759796142578\n",
      "timestep  :  55920, episodic_reward: -234.46039685898697, value_loss: 23.675655364990234, policy_loss: -4.84743070602417, entropy_loss: 0.1353922188282013\n",
      "timestep  :  63920, episodic_reward: -222.30671217042945, value_loss: 135.69859313964844, policy_loss: -12.680477142333984, entropy_loss: 0.1330004334449768\n",
      "timestep  :  71920, episodic_reward: -245.8997425712127, value_loss: 77.92548370361328, policy_loss: -11.335848808288574, entropy_loss: 0.13393466174602509\n",
      "timestep  :  79920, episodic_reward: -202.76794046678572, value_loss: 34.13639450073242, policy_loss: -6.241905689239502, entropy_loss: 0.1120651513338089\n",
      "timestep  :  87920, episodic_reward: -180.39373548174078, value_loss: 155.77633666992188, policy_loss: -4.750914096832275, entropy_loss: 0.12667517364025116\n",
      "timestep  :  95920, episodic_reward: -262.81518385571246, value_loss: 54.8779411315918, policy_loss: -5.492246150970459, entropy_loss: 0.13358688354492188\n",
      "timestep  : 103920, episodic_reward: -224.93338736033368, value_loss: 54.61030960083008, policy_loss: -5.602309226989746, entropy_loss: 0.13049566745758057\n",
      "timestep  : 111920, episodic_reward: -211.26821740369516, value_loss: 41.39345932006836, policy_loss: -3.9421591758728027, entropy_loss: 0.13654272258281708\n",
      "timestep  : 119920, episodic_reward: -213.4943856634882, value_loss: 22.355512619018555, policy_loss: -0.44409942626953125, entropy_loss: 0.1233610138297081\n",
      "timestep  : 127920, episodic_reward: -260.1897815312877, value_loss: 39.90110397338867, policy_loss: -0.6369678378105164, entropy_loss: 0.1143929585814476\n",
      "timestep  : 135920, episodic_reward: -226.251193895094, value_loss: 25.30849266052246, policy_loss: 0.10151300579309464, entropy_loss: 0.10553965717554092\n"
     ]
    },
    {
     "name": "stdout",
     "output_type": "stream",
     "text": [
      "timestep  : 143920, episodic_reward: -213.50356397252548, value_loss: 17.42850112915039, policy_loss: -1.3027054071426392, entropy_loss: 0.10085280239582062\n",
      "timestep  : 151920, episodic_reward: -208.2596437493355, value_loss: 17.35693359375, policy_loss: 1.7544673681259155, entropy_loss: 0.10781097412109375\n",
      "timestep  : 159920, episodic_reward: -190.94532790442688, value_loss: 22.047239303588867, policy_loss: -2.9401001930236816, entropy_loss: 0.1280996948480606\n",
      "timestep  : 167920, episodic_reward: -188.95272764223984, value_loss: 9.546184539794922, policy_loss: -2.3834116458892822, entropy_loss: 0.09802546352148056\n",
      "timestep  : 175920, episodic_reward: -216.54743369904386, value_loss: 79.06524658203125, policy_loss: -2.4131383895874023, entropy_loss: 0.11327233165502548\n",
      "timestep  : 183920, episodic_reward: -263.1541941226026, value_loss: 8.991231918334961, policy_loss: -1.0068137645721436, entropy_loss: 0.12429343909025192\n",
      "timestep  : 191920, episodic_reward: -250.8871518353306, value_loss: 20.1326904296875, policy_loss: -2.0072460174560547, entropy_loss: 0.12747429311275482\n",
      "timestep  : 199920, episodic_reward: -185.37224077756466, value_loss: 15.772964477539062, policy_loss: -2.7250101566314697, entropy_loss: 0.13676056265830994\n",
      "timestep  : 207920, episodic_reward: -193.2491158962486, value_loss: 45.051944732666016, policy_loss: -4.228392124176025, entropy_loss: 0.13037078082561493\n",
      "timestep  : 215920, episodic_reward: -212.2090039148103, value_loss: 175.8212432861328, policy_loss: -6.796716213226318, entropy_loss: 0.13279297947883606\n",
      "timestep  : 223920, episodic_reward: -221.42042036404186, value_loss: 48.079627990722656, policy_loss: -3.5863680839538574, entropy_loss: 0.1115700751543045\n",
      "timestep  : 231920, episodic_reward: -262.2517019366025, value_loss: 11.43273639678955, policy_loss: -1.464687466621399, entropy_loss: 0.12211698293685913\n",
      "timestep  : 239920, episodic_reward: -227.97703084672514, value_loss: 23.431507110595703, policy_loss: -2.1987321376800537, entropy_loss: 0.10337173938751221\n",
      "timestep  : 247920, episodic_reward: -201.3930427312111, value_loss: 91.24971008300781, policy_loss: 0.0642780289053917, entropy_loss: 0.13145779073238373\n",
      "timestep  : 255920, episodic_reward: -196.52487326584426, value_loss: 19.89706802368164, policy_loss: 1.7273118495941162, entropy_loss: 0.13666954636573792\n",
      "timestep  : 263920, episodic_reward: -215.88464199014874, value_loss: 39.09275436401367, policy_loss: 3.425427198410034, entropy_loss: 0.13828498125076294\n",
      "timestep  : 271920, episodic_reward: -262.95232933883585, value_loss: 11.221728324890137, policy_loss: -1.6442553997039795, entropy_loss: 0.12808053195476532\n",
      "timestep  : 279920, episodic_reward: -268.02110488363155, value_loss: 32.22124481201172, policy_loss: -5.424521446228027, entropy_loss: 0.12526743113994598\n",
      "timestep  : 287920, episodic_reward: -287.52085343560225, value_loss: 17.011859893798828, policy_loss: -2.9304497241973877, entropy_loss: 0.1293114274740219\n",
      "timestep  : 295920, episodic_reward: -281.09586802102115, value_loss: 32.582252502441406, policy_loss: -2.78703236579895, entropy_loss: 0.13703905045986176\n",
      "timestep  : 303920, episodic_reward: -214.93514977759926, value_loss: 8.876792907714844, policy_loss: 0.9250062704086304, entropy_loss: 0.12643243372440338\n",
      "timestep  : 311920, episodic_reward: -142.21151773878222, value_loss: 25.089128494262695, policy_loss: 1.7655723094940186, entropy_loss: 0.11658699810504913\n",
      "timestep  : 319920, episodic_reward: -173.81196016132088, value_loss: 11.120232582092285, policy_loss: 0.7801449298858643, entropy_loss: 0.11103341728448868\n",
      "timestep  : 327920, episodic_reward: -237.5918835531319, value_loss: 53.1961784362793, policy_loss: -6.483729362487793, entropy_loss: 0.12312456220388412\n",
      "timestep  : 335920, episodic_reward: -217.79338562451647, value_loss: 133.3140869140625, policy_loss: -5.633986473083496, entropy_loss: 0.13404250144958496\n",
      "timestep  : 343920, episodic_reward: -245.25153836834025, value_loss: 73.99232482910156, policy_loss: -0.34744948148727417, entropy_loss: 0.13402579724788666\n",
      "timestep  : 351920, episodic_reward: -231.68686753509272, value_loss: 46.28999710083008, policy_loss: -2.02024507522583, entropy_loss: 0.1279730349779129\n",
      "timestep  : 359920, episodic_reward: -219.094917444385, value_loss: 18.050256729125977, policy_loss: -1.378795862197876, entropy_loss: 0.11977044492959976\n",
      "timestep  : 367920, episodic_reward: -270.58131249086085, value_loss: 19.122629165649414, policy_loss: 0.24166421592235565, entropy_loss: 0.13071420788764954\n",
      "timestep  : 375920, episodic_reward: -213.82420914426132, value_loss: 18.137025833129883, policy_loss: -0.1520179808139801, entropy_loss: 0.13414780795574188\n",
      "timestep  : 383920, episodic_reward: -266.6365106620964, value_loss: 16.33136749267578, policy_loss: 0.2609315812587738, entropy_loss: 0.1257626861333847\n",
      "timestep  : 391920, episodic_reward: -233.19760026370452, value_loss: 71.97090148925781, policy_loss: 4.457840919494629, entropy_loss: 0.1316814422607422\n",
      "timestep  : 399920, episodic_reward: -183.3540082844816, value_loss: 14.808313369750977, policy_loss: -2.9857239723205566, entropy_loss: 0.11661224812269211\n",
      "timestep  : 407920, episodic_reward: -198.2427308449967, value_loss: 27.393596649169922, policy_loss: -1.5853385925292969, entropy_loss: 0.12532281875610352\n",
      "timestep  : 415920, episodic_reward: -244.71963158808848, value_loss: 47.63060760498047, policy_loss: -7.68466329574585, entropy_loss: 0.13049523532390594\n",
      "timestep  : 423920, episodic_reward: -202.38886182449073, value_loss: 108.52180480957031, policy_loss: -0.6467863917350769, entropy_loss: 0.1327442079782486\n",
      "timestep  : 431920, episodic_reward: -238.44805122251537, value_loss: 12.438859939575195, policy_loss: 0.4676279127597809, entropy_loss: 0.12953068315982819\n",
      "timestep  : 439920, episodic_reward: -200.2353296772593, value_loss: 29.77689552307129, policy_loss: -2.806178569793701, entropy_loss: 0.13343213498592377\n",
      "timestep  : 447920, episodic_reward: -264.67856936694585, value_loss: 54.303199768066406, policy_loss: -1.6656697988510132, entropy_loss: 0.11965843290090561\n",
      "timestep  : 455920, episodic_reward: -265.58536811150043, value_loss: 18.183021545410156, policy_loss: -0.6137946844100952, entropy_loss: 0.12973375618457794\n",
      "timestep  : 463920, episodic_reward: -238.07840711098078, value_loss: 8.727324485778809, policy_loss: -0.1843903362751007, entropy_loss: 0.1316928118467331\n",
      "timestep  : 471920, episodic_reward: -225.104447751867, value_loss: 20.479106903076172, policy_loss: 0.36406922340393066, entropy_loss: 0.12349604815244675\n",
      "timestep  : 479920, episodic_reward: -195.87899636534073, value_loss: 20.990076065063477, policy_loss: 0.14085450768470764, entropy_loss: 0.11730118095874786\n",
      "timestep  : 487920, episodic_reward: -169.01853189689868, value_loss: 28.892749786376953, policy_loss: -4.113562107086182, entropy_loss: 0.11510162800550461\n",
      "timestep  : 495920, episodic_reward: -193.65867647962168, value_loss: 48.7104377746582, policy_loss: 1.2989251613616943, entropy_loss: 0.11664815247058868\n",
      "timestep  : 503920, episodic_reward: -269.21711206617744, value_loss: 16.86140251159668, policy_loss: 2.48503041267395, entropy_loss: 0.13438454270362854\n",
      "timestep  : 511920, episodic_reward: -298.8007101561693, value_loss: 16.88981819152832, policy_loss: -2.0646278858184814, entropy_loss: 0.13212057948112488\n",
      "timestep  : 519920, episodic_reward: -214.38134345488018, value_loss: 17.944536209106445, policy_loss: 1.9681177139282227, entropy_loss: 0.08500698953866959\n",
      "timestep  : 527920, episodic_reward: -209.66328089116897, value_loss: 37.58034133911133, policy_loss: -3.4043097496032715, entropy_loss: 0.11770918220281601\n",
      "timestep  : 535920, episodic_reward: -246.7193406423031, value_loss: 15.286540031433105, policy_loss: -2.4482452869415283, entropy_loss: 0.13031847774982452\n",
      "timestep  : 543920, episodic_reward: -242.15703386529177, value_loss: 13.467916488647461, policy_loss: 1.299055576324463, entropy_loss: 0.13470645248889923\n",
      "timestep  : 551920, episodic_reward: -227.66839162590063, value_loss: 24.168970108032227, policy_loss: -1.4604978561401367, entropy_loss: 0.12550269067287445\n",
      "timestep  : 559920, episodic_reward: -221.42073212795378, value_loss: 47.135311126708984, policy_loss: -0.3824006915092468, entropy_loss: 0.12616603076457977\n"
     ]
    },
    {
     "name": "stdout",
     "output_type": "stream",
     "text": [
      "timestep  : 567920, episodic_reward: -248.9515150766261, value_loss: 29.959421157836914, policy_loss: 4.2107834815979, entropy_loss: 0.12655961513519287\n",
      "timestep  : 575920, episodic_reward: -264.2442322777158, value_loss: 47.32240676879883, policy_loss: -5.840904235839844, entropy_loss: 0.12571287155151367\n",
      "timestep  : 583920, episodic_reward: -234.8587693800624, value_loss: 15.2008056640625, policy_loss: -0.1749885082244873, entropy_loss: 0.11728958040475845\n",
      "timestep  : 591920, episodic_reward: -242.2100806931079, value_loss: 20.042224884033203, policy_loss: 2.6322691440582275, entropy_loss: 0.12607644498348236\n",
      "timestep  : 599920, episodic_reward: -233.38183929658436, value_loss: 25.088476181030273, policy_loss: -0.5120387077331543, entropy_loss: 0.13148878514766693\n",
      "timestep  : 607920, episodic_reward: -250.3619194381108, value_loss: 32.60450744628906, policy_loss: -0.08639488369226456, entropy_loss: 0.13031965494155884\n",
      "timestep  : 615920, episodic_reward: -246.82148417274857, value_loss: 16.821332931518555, policy_loss: 0.14470934867858887, entropy_loss: 0.13842719793319702\n",
      "timestep  : 623920, episodic_reward: -254.98431391978806, value_loss: 11.630762100219727, policy_loss: 3.550011157989502, entropy_loss: 0.13546258211135864\n",
      "timestep  : 631920, episodic_reward: -287.2362404612401, value_loss: 51.96454620361328, policy_loss: -3.763976573944092, entropy_loss: 0.13190394639968872\n",
      "timestep  : 639920, episodic_reward: -258.1620554296544, value_loss: 24.79934310913086, policy_loss: -0.8471260070800781, entropy_loss: 0.13361519575119019\n",
      "timestep  : 647920, episodic_reward: -284.58908356701755, value_loss: 48.023658752441406, policy_loss: 0.4342895448207855, entropy_loss: 0.1325065642595291\n",
      "timestep  : 655920, episodic_reward: -295.29454007322477, value_loss: 23.647640228271484, policy_loss: -1.4351719617843628, entropy_loss: 0.12600287795066833\n",
      "timestep  : 663920, episodic_reward: -215.4238366749617, value_loss: 14.280534744262695, policy_loss: 1.5644296407699585, entropy_loss: 0.10606765747070312\n",
      "timestep  : 671920, episodic_reward: -269.22951274722146, value_loss: 96.8033218383789, policy_loss: 1.653235673904419, entropy_loss: 0.11469552665948868\n",
      "timestep  : 679920, episodic_reward: -259.7501996613424, value_loss: 83.07450103759766, policy_loss: -7.104386329650879, entropy_loss: 0.12870042026042938\n",
      "timestep  : 687920, episodic_reward: -205.2392806021886, value_loss: 19.91816520690918, policy_loss: 0.2717132568359375, entropy_loss: 0.11792399734258652\n",
      "timestep  : 695920, episodic_reward: -268.05138904678773, value_loss: 6.290927410125732, policy_loss: 1.4474270343780518, entropy_loss: 0.1342269629240036\n",
      "timestep  : 703920, episodic_reward: -237.78300454715634, value_loss: 220.45767211914062, policy_loss: 8.861603736877441, entropy_loss: 0.12661506235599518\n",
      "timestep  : 711920, episodic_reward: -211.9492120268671, value_loss: 26.5006160736084, policy_loss: -0.9830396771430969, entropy_loss: 0.11475814878940582\n",
      "timestep  : 719920, episodic_reward: -237.34488478778852, value_loss: 17.00985336303711, policy_loss: 1.2041757106781006, entropy_loss: 0.12958459556102753\n",
      "timestep  : 727920, episodic_reward: -219.84546820848547, value_loss: 22.928701400756836, policy_loss: -5.037837982177734, entropy_loss: 0.12490806728601456\n",
      "timestep  : 735920, episodic_reward: -252.7443927466454, value_loss: 17.362356185913086, policy_loss: -0.9651046991348267, entropy_loss: 0.13410912454128265\n",
      "timestep  : 743920, episodic_reward: -273.1861445474205, value_loss: 69.42060852050781, policy_loss: 5.321563243865967, entropy_loss: 0.13429777324199677\n",
      "timestep  : 751920, episodic_reward: -257.42535632927485, value_loss: 108.85035705566406, policy_loss: 4.6713762283325195, entropy_loss: 0.12696842849254608\n",
      "timestep  : 759920, episodic_reward: -221.3162982389789, value_loss: 21.416549682617188, policy_loss: 1.1938084363937378, entropy_loss: 0.12715673446655273\n",
      "timestep  : 767920, episodic_reward: -259.7720700548531, value_loss: 52.58881378173828, policy_loss: 2.858884334564209, entropy_loss: 0.13085965812206268\n",
      "timestep  : 775920, episodic_reward: -225.1203851411895, value_loss: 30.870113372802734, policy_loss: -0.8499234914779663, entropy_loss: 0.12845313549041748\n",
      "timestep  : 783920, episodic_reward: -231.72009199048196, value_loss: 30.39864730834961, policy_loss: -2.386291980743408, entropy_loss: 0.12182817608118057\n",
      "timestep  : 791920, episodic_reward: -209.15870252326488, value_loss: 20.113826751708984, policy_loss: -1.1383740901947021, entropy_loss: 0.09785782545804977\n",
      "timestep  : 799920, episodic_reward: -193.76222207352356, value_loss: 70.11128997802734, policy_loss: 1.015201449394226, entropy_loss: 0.0953502506017685\n",
      "timestep  : 807920, episodic_reward: -231.14819162231586, value_loss: 67.96511840820312, policy_loss: 4.64348030090332, entropy_loss: 0.11694612354040146\n",
      "timestep  : 815920, episodic_reward: -211.94245040784844, value_loss: 20.589466094970703, policy_loss: -0.3666430115699768, entropy_loss: 0.11672254651784897\n",
      "timestep  : 823920, episodic_reward: -218.4706524829736, value_loss: 43.380859375, policy_loss: -2.7024526596069336, entropy_loss: 0.1270698755979538\n",
      "timestep  : 831920, episodic_reward: -191.06672591604925, value_loss: 24.389041900634766, policy_loss: -5.338567733764648, entropy_loss: 0.12649425864219666\n",
      "timestep  : 839920, episodic_reward: -214.00044385034292, value_loss: 22.210798263549805, policy_loss: 2.8297119140625, entropy_loss: 0.1316951960325241\n",
      "timestep  : 847920, episodic_reward: -203.07091171820827, value_loss: 11.93159294128418, policy_loss: -1.6557438373565674, entropy_loss: 0.12005575001239777\n",
      "timestep  : 855920, episodic_reward: -241.09863225203702, value_loss: 44.69530487060547, policy_loss: -6.8525543212890625, entropy_loss: 0.11679662764072418\n",
      "timestep  : 863920, episodic_reward: -318.88559815137467, value_loss: 17.449644088745117, policy_loss: 0.40363961458206177, entropy_loss: 0.1264980584383011\n",
      "timestep  : 871920, episodic_reward: -185.9764775051676, value_loss: 29.649017333984375, policy_loss: 0.965907871723175, entropy_loss: 0.10170026868581772\n",
      "timestep  : 879920, episodic_reward: -235.75078095550452, value_loss: 19.29464340209961, policy_loss: -3.176624298095703, entropy_loss: 0.13240346312522888\n",
      "timestep  : 887920, episodic_reward: -186.48563721730036, value_loss: 7.92788553237915, policy_loss: -0.06766556203365326, entropy_loss: 0.1291290521621704\n",
      "timestep  : 895920, episodic_reward: -188.773122946075, value_loss: 12.903033256530762, policy_loss: 1.814655065536499, entropy_loss: 0.12835709750652313\n",
      "timestep  : 903920, episodic_reward: -161.7024910350689, value_loss: 35.09893035888672, policy_loss: 3.162059783935547, entropy_loss: 0.10158900171518326\n",
      "timestep  : 911920, episodic_reward: -131.54168626002, value_loss: 6.774260520935059, policy_loss: -0.910976767539978, entropy_loss: 0.1206584945321083\n",
      "timestep  : 919920, episodic_reward: -134.2314787766368, value_loss: 30.731689453125, policy_loss: -2.4237313270568848, entropy_loss: 0.11789281666278839\n",
      "timestep  : 927920, episodic_reward: -105.37978631947952, value_loss: 48.12063980102539, policy_loss: 3.4761016368865967, entropy_loss: 0.10969765484333038\n",
      "timestep  : 935920, episodic_reward: -102.02895457346072, value_loss: 35.904518127441406, policy_loss: 1.072209358215332, entropy_loss: 0.0966968908905983\n",
      "timestep  : 943920, episodic_reward: -97.089725946639, value_loss: 11.404440879821777, policy_loss: 1.928863525390625, entropy_loss: 0.11129247397184372\n",
      "timestep  : 951920, episodic_reward: -79.14838807828443, value_loss: 10.618252754211426, policy_loss: -2.8606369495391846, entropy_loss: 0.11270754784345627\n",
      "timestep  : 959920, episodic_reward: -67.04618193002929, value_loss: 18.898536682128906, policy_loss: -1.80095636844635, entropy_loss: 0.11155559867620468\n",
      "timestep  : 967920, episodic_reward: -63.87588294345226, value_loss: 5.803030967712402, policy_loss: -0.82963627576828, entropy_loss: 0.10910163074731827\n",
      "timestep  : 975920, episodic_reward: -64.99740796833437, value_loss: 65.60932922363281, policy_loss: 0.9460047483444214, entropy_loss: 0.11058886349201202\n",
      "timestep  : 983920, episodic_reward: -62.422116577076395, value_loss: 25.98797607421875, policy_loss: -4.045580863952637, entropy_loss: 0.11555081605911255\n"
     ]
    },
    {
     "name": "stdout",
     "output_type": "stream",
     "text": [
      "timestep  : 991920, episodic_reward: -45.18301952213519, value_loss: 8.012768745422363, policy_loss: 0.6600214838981628, entropy_loss: 0.10604751110076904\n",
      "timestep  : 999920, episodic_reward: -53.81960770118278, value_loss: 5.4806389808654785, policy_loss: 1.0389084815979004, entropy_loss: 0.09696029126644135\n",
      "timestep  : 1007920, episodic_reward: -61.43111897731998, value_loss: 12.758116722106934, policy_loss: 0.3336659371852875, entropy_loss: 0.1030082255601883\n",
      "timestep  : 1015920, episodic_reward: -53.31594104796448, value_loss: 34.508243560791016, policy_loss: -0.45166879892349243, entropy_loss: 0.10674603283405304\n",
      "timestep  : 1023920, episodic_reward: -60.64908076324517, value_loss: 10.737945556640625, policy_loss: -0.4682319164276123, entropy_loss: 0.10883714258670807\n",
      "timestep  : 1031920, episodic_reward: -60.93519495893352, value_loss: 36.78978729248047, policy_loss: -1.9036462306976318, entropy_loss: 0.10691683739423752\n",
      "timestep  : 1039920, episodic_reward: -58.06263888882274, value_loss: 4.3508501052856445, policy_loss: -0.002179086208343506, entropy_loss: 0.11003319174051285\n",
      "timestep  : 1047920, episodic_reward: -47.487696019169846, value_loss: 42.67498016357422, policy_loss: -0.19620206952095032, entropy_loss: 0.10075502842664719\n",
      "timestep  : 1055920, episodic_reward: -41.81535658908303, value_loss: 3.205507755279541, policy_loss: -0.3098975718021393, entropy_loss: 0.11042435467243195\n",
      "timestep  : 1063920, episodic_reward: -40.70824067471633, value_loss: 3.1651041507720947, policy_loss: -0.30470773577690125, entropy_loss: 0.10432509332895279\n",
      "timestep  : 1071920, episodic_reward: -34.92862474531224, value_loss: 7.36942195892334, policy_loss: 1.13394033908844, entropy_loss: 0.10207697004079819\n",
      "timestep  : 1079920, episodic_reward: -37.62775906244618, value_loss: 7.827968597412109, policy_loss: 0.7927921414375305, entropy_loss: 0.10062595456838608\n",
      "timestep  : 1087920, episodic_reward: -35.316357190366716, value_loss: 11.027288436889648, policy_loss: -0.058423709124326706, entropy_loss: 0.10020517557859421\n",
      "timestep  : 1095920, episodic_reward: -40.739246258224, value_loss: 7.200026512145996, policy_loss: 0.6176694631576538, entropy_loss: 0.10710656642913818\n",
      "timestep  : 1103920, episodic_reward: -42.39526652639437, value_loss: 6.614875793457031, policy_loss: -0.11893673241138458, entropy_loss: 0.10084664076566696\n",
      "timestep  : 1111920, episodic_reward: -41.900084403035855, value_loss: 10.73025131225586, policy_loss: -0.2659873366355896, entropy_loss: 0.10033851116895676\n",
      "timestep  : 1119920, episodic_reward: -46.44126599220717, value_loss: 5.25409460067749, policy_loss: -0.5103358030319214, entropy_loss: 0.10422062128782272\n",
      "timestep  : 1127920, episodic_reward: -26.81801508821184, value_loss: 42.436805725097656, policy_loss: -2.5708627700805664, entropy_loss: 0.10181839764118195\n",
      "timestep  : 1135920, episodic_reward: -15.33797237730057, value_loss: 8.302983283996582, policy_loss: -0.7585461139678955, entropy_loss: 0.10279086977243423\n",
      "timestep  : 1143920, episodic_reward: -20.910487531145332, value_loss: 11.515253067016602, policy_loss: 1.2122066020965576, entropy_loss: 0.10357041656970978\n",
      "timestep  : 1151920, episodic_reward: -46.29001386144919, value_loss: 3.76625394821167, policy_loss: -0.1389712542295456, entropy_loss: 0.10536257177591324\n",
      "timestep  : 1159920, episodic_reward: -68.58754117837051, value_loss: 90.37458801269531, policy_loss: -1.681706428527832, entropy_loss: 0.09375330805778503\n",
      "timestep  : 1167920, episodic_reward: -79.5399802122291, value_loss: 15.573954582214355, policy_loss: -0.8642560839653015, entropy_loss: 0.09946934133768082\n",
      "timestep  : 1175920, episodic_reward: -80.25525277874968, value_loss: 9.003680229187012, policy_loss: 0.6950665712356567, entropy_loss: 0.09780852496623993\n",
      "timestep  : 1183920, episodic_reward: -69.5921300535724, value_loss: 6.9772515296936035, policy_loss: 0.8762585520744324, entropy_loss: 0.10010173171758652\n",
      "timestep  : 1191920, episodic_reward: -32.16937045462259, value_loss: 10.246885299682617, policy_loss: 0.63945472240448, entropy_loss: 0.10489866882562637\n",
      "timestep  : 1199920, episodic_reward: -32.588905847972185, value_loss: 2.1826627254486084, policy_loss: -0.4123862385749817, entropy_loss: 0.10398951917886734\n",
      "timestep  : 1207920, episodic_reward: -11.727730492610247, value_loss: 11.956430435180664, policy_loss: 0.679036021232605, entropy_loss: 0.0927734524011612\n",
      "timestep  : 1215920, episodic_reward: -11.870013808385718, value_loss: 5.3467912673950195, policy_loss: -0.1344970166683197, entropy_loss: 0.09692146629095078\n",
      "timestep  : 1223920, episodic_reward: -21.39311746658192, value_loss: 7.9523491859436035, policy_loss: -0.7326297760009766, entropy_loss: 0.08536173403263092\n",
      "timestep  : 1231920, episodic_reward: -25.644006210780677, value_loss: 47.09318161010742, policy_loss: -0.7079908847808838, entropy_loss: 0.08532439917325974\n",
      "timestep  : 1239920, episodic_reward: -20.74759548118517, value_loss: 3.466182231903076, policy_loss: 0.547287106513977, entropy_loss: 0.09765895456075668\n",
      "timestep  : 1247920, episodic_reward: -38.900738089045966, value_loss: 8.000907897949219, policy_loss: 0.055106353014707565, entropy_loss: 0.09532522410154343\n",
      "timestep  : 1255920, episodic_reward: -33.150246525467395, value_loss: 3.552278518676758, policy_loss: -0.9775948524475098, entropy_loss: 0.0947989746928215\n",
      "timestep  : 1263920, episodic_reward: -34.201591780579946, value_loss: 6.812660217285156, policy_loss: 0.6478569507598877, entropy_loss: 0.10203136503696442\n",
      "timestep  : 1271920, episodic_reward: -36.77313881202272, value_loss: 3.292510509490967, policy_loss: -1.8849847316741943, entropy_loss: 0.10172593593597412\n",
      "timestep  : 1279920, episodic_reward: -34.335495576346204, value_loss: 3.8043930530548096, policy_loss: -0.5647000074386597, entropy_loss: 0.10373691469430923\n",
      "timestep  : 1287920, episodic_reward: -21.460597391463747, value_loss: 4.1383256912231445, policy_loss: -0.7626459002494812, entropy_loss: 0.0930573120713234\n",
      "timestep  : 1295920, episodic_reward: -29.608360029235172, value_loss: 4.243277072906494, policy_loss: -0.1504269242286682, entropy_loss: 0.0941987857222557\n",
      "timestep  : 1303920, episodic_reward: -24.563271218768982, value_loss: 18.640228271484375, policy_loss: 2.5930137634277344, entropy_loss: 0.09412621706724167\n",
      "timestep  : 1311920, episodic_reward: -18.750243680443702, value_loss: 3.789513111114502, policy_loss: 0.5840586423873901, entropy_loss: 0.09681709855794907\n",
      "timestep  : 1319920, episodic_reward: -34.138819723169746, value_loss: 7.5466766357421875, policy_loss: -0.27733638882637024, entropy_loss: 0.10530351847410202\n",
      "timestep  : 1327920, episodic_reward: -34.777802277999584, value_loss: 1.709410309791565, policy_loss: 0.674972414970398, entropy_loss: 0.1073705181479454\n",
      "timestep  : 1335920, episodic_reward: -42.56310958648143, value_loss: 1.7517900466918945, policy_loss: -0.16149547696113586, entropy_loss: 0.1053008958697319\n",
      "timestep  : 1343920, episodic_reward: -31.108839687871278, value_loss: 2.562570333480835, policy_loss: -0.7341020703315735, entropy_loss: 0.10269632190465927\n",
      "timestep  : 1351920, episodic_reward: -14.532721955193892, value_loss: 3.2661118507385254, policy_loss: -0.9696423411369324, entropy_loss: 0.10753440111875534\n",
      "timestep  : 1359920, episodic_reward: -6.973638907242555, value_loss: 4.50132417678833, policy_loss: 0.39389514923095703, entropy_loss: 0.09570958465337753\n",
      "timestep  : 1367920, episodic_reward: 10.258086398699625, value_loss: 2.6776466369628906, policy_loss: -0.8467620611190796, entropy_loss: 0.10285244137048721\n",
      "timestep  : 1375920, episodic_reward: 7.571424823930732, value_loss: 5.942007541656494, policy_loss: -0.006538099143654108, entropy_loss: 0.099791519343853\n",
      "timestep  : 1383920, episodic_reward: 10.437779962784939, value_loss: 2.280413866043091, policy_loss: -0.4794887602329254, entropy_loss: 0.10919731855392456\n",
      "timestep  : 1391920, episodic_reward: 0.4134152047369139, value_loss: 1.9300978183746338, policy_loss: -0.4546549916267395, entropy_loss: 0.09979027509689331\n",
      "timestep  : 1399920, episodic_reward: -2.1459298429591382, value_loss: 2.2689015865325928, policy_loss: -0.5369676947593689, entropy_loss: 0.10464155673980713\n",
      "timestep  : 1407920, episodic_reward: -8.476105083551666, value_loss: 3.4475269317626953, policy_loss: -0.25376468896865845, entropy_loss: 0.10004198551177979\n"
     ]
    },
    {
     "name": "stdout",
     "output_type": "stream",
     "text": [
      "timestep  : 1415920, episodic_reward: -10.013996393406982, value_loss: 1.9937089681625366, policy_loss: 0.32059744000434875, entropy_loss: 0.09521834552288055\n",
      "timestep  : 1423920, episodic_reward: -22.33511312809521, value_loss: 2.407254934310913, policy_loss: 0.2437247931957245, entropy_loss: 0.10913797467947006\n",
      "timestep  : 1431920, episodic_reward: -31.674617775810177, value_loss: 61.68798065185547, policy_loss: -1.7854864597320557, entropy_loss: 0.08743705600500107\n",
      "timestep  : 1439920, episodic_reward: -24.742739956079767, value_loss: 2.92094087600708, policy_loss: 0.13459832966327667, entropy_loss: 0.09686441719532013\n",
      "timestep  : 1447920, episodic_reward: 8.472940599531771, value_loss: 2.220209836959839, policy_loss: -1.0174839496612549, entropy_loss: 0.09626159816980362\n",
      "timestep  : 1455920, episodic_reward: 28.810280723108285, value_loss: 137.9493408203125, policy_loss: 0.26693326234817505, entropy_loss: 0.09755031764507294\n",
      "timestep  : 1463920, episodic_reward: 33.42064591840958, value_loss: 2.5078611373901367, policy_loss: -0.035364411771297455, entropy_loss: 0.10188309103250504\n",
      "timestep  : 1471920, episodic_reward: 38.34355547798429, value_loss: 9.007061004638672, policy_loss: 0.9386248588562012, entropy_loss: 0.10886820405721664\n",
      "timestep  : 1479920, episodic_reward: 37.300575554786406, value_loss: 18.774913787841797, policy_loss: -0.2664174437522888, entropy_loss: 0.09774116426706314\n",
      "timestep  : 1487920, episodic_reward: -18.90557521289145, value_loss: 11.298675537109375, policy_loss: 1.8335926532745361, entropy_loss: 0.1133795976638794\n",
      "timestep  : 1495920, episodic_reward: -23.020495978367535, value_loss: 3.724940061569214, policy_loss: -0.20121033489704132, entropy_loss: 0.10666444152593613\n",
      "timestep  : 1503920, episodic_reward: -93.87631871977295, value_loss: 7.174677848815918, policy_loss: -0.6999689340591431, entropy_loss: 0.10465610027313232\n",
      "timestep  : 1511920, episodic_reward: -95.29672652253025, value_loss: 6.304111003875732, policy_loss: -0.8612745404243469, entropy_loss: 0.10701952129602432\n",
      "timestep  : 1519920, episodic_reward: -72.11425059616039, value_loss: 3.203843355178833, policy_loss: 0.015739107504487038, entropy_loss: 0.10340266674757004\n",
      "timestep  : 1527920, episodic_reward: -63.17534592060045, value_loss: 5.159703254699707, policy_loss: -0.8068394660949707, entropy_loss: 0.0944538339972496\n",
      "timestep  : 1535920, episodic_reward: -9.281282804516724, value_loss: 6.258159637451172, policy_loss: -0.10491166263818741, entropy_loss: 0.0937243178486824\n",
      "timestep  : 1543920, episodic_reward: 0.736131251574941, value_loss: 2.6504857540130615, policy_loss: -0.6313299536705017, entropy_loss: 0.09073888510465622\n",
      "timestep  : 1551920, episodic_reward: 48.58888724771727, value_loss: 3.508021831512451, policy_loss: 0.036176346242427826, entropy_loss: 0.10187757015228271\n",
      "timestep  : 1559920, episodic_reward: 48.13716433068205, value_loss: 3.170314311981201, policy_loss: -0.4909225106239319, entropy_loss: 0.1084732636809349\n",
      "timestep  : 1567920, episodic_reward: 24.58772963793456, value_loss: 1.3963329792022705, policy_loss: -0.22443613409996033, entropy_loss: 0.10273879021406174\n",
      "timestep  : 1575920, episodic_reward: 17.900116163987423, value_loss: 1.972399115562439, policy_loss: -0.1006806343793869, entropy_loss: 0.10702794790267944\n",
      "timestep  : 1583920, episodic_reward: -6.337321181840976, value_loss: 2.309849262237549, policy_loss: 0.03443598747253418, entropy_loss: 0.10256125032901764\n",
      "timestep  : 1591920, episodic_reward: -10.94248250560177, value_loss: 2.7983195781707764, policy_loss: -0.20840199291706085, entropy_loss: 0.09408947080373764\n",
      "timestep  : 1599920, episodic_reward: -36.90682700808028, value_loss: 2.9257237911224365, policy_loss: -0.5843332409858704, entropy_loss: 0.10010945051908493\n",
      "timestep  : 1607920, episodic_reward: -37.41789858038465, value_loss: 2.4894707202911377, policy_loss: -1.037039041519165, entropy_loss: 0.09961576759815216\n",
      "timestep  : 1615920, episodic_reward: -30.8884788225747, value_loss: 2.24550461769104, policy_loss: 0.24164485931396484, entropy_loss: 0.09852954745292664\n",
      "timestep  : 1623920, episodic_reward: -29.333433548714225, value_loss: 2.497783660888672, policy_loss: 0.14527517557144165, entropy_loss: 0.09713272005319595\n",
      "timestep  : 1631920, episodic_reward: -29.77503152707559, value_loss: 1.5557771921157837, policy_loss: -0.3885933458805084, entropy_loss: 0.09537782520055771\n",
      "timestep  : 1639920, episodic_reward: -30.36674912817573, value_loss: 2.693897008895874, policy_loss: -0.00523220282047987, entropy_loss: 0.10189060121774673\n",
      "timestep  : 1647920, episodic_reward: -30.250866673683795, value_loss: 2.7043871879577637, policy_loss: -0.45378273725509644, entropy_loss: 0.10260491818189621\n",
      "timestep  : 1655920, episodic_reward: -30.489158365495346, value_loss: 2.6974380016326904, policy_loss: -0.8610609173774719, entropy_loss: 0.09593454748392105\n",
      "timestep  : 1663920, episodic_reward: -33.38743960496892, value_loss: 1.4588205814361572, policy_loss: -0.8136743307113647, entropy_loss: 0.09770456701517105\n",
      "timestep  : 1671920, episodic_reward: -32.58951908915181, value_loss: 4.480436325073242, policy_loss: -0.2642594873905182, entropy_loss: 0.08941160887479782\n",
      "timestep  : 1679920, episodic_reward: -24.86079553084163, value_loss: 1.4870420694351196, policy_loss: -0.06283258646726608, entropy_loss: 0.0975780338048935\n",
      "timestep  : 1687920, episodic_reward: -16.597293430832284, value_loss: 147.15725708007812, policy_loss: -0.5314058065414429, entropy_loss: 0.07057341188192368\n",
      "timestep  : 1695920, episodic_reward: 34.884492901462046, value_loss: 2.613208770751953, policy_loss: -0.6471753120422363, entropy_loss: 0.08940275758504868\n",
      "timestep  : 1703920, episodic_reward: 44.84893642761628, value_loss: 15.101264953613281, policy_loss: -1.577998399734497, entropy_loss: 0.0869661495089531\n",
      "timestep  : 1711920, episodic_reward: 47.14469822020719, value_loss: 1.6391220092773438, policy_loss: -0.048889826983213425, entropy_loss: 0.0954853817820549\n",
      "timestep  : 1719920, episodic_reward: 55.67135448419322, value_loss: 1.3906943798065186, policy_loss: 0.22458067536354065, entropy_loss: 0.09306644648313522\n",
      "timestep  : 1727920, episodic_reward: 59.53789322991981, value_loss: 0.6651908159255981, policy_loss: -0.30798012018203735, entropy_loss: 0.09589441865682602\n",
      "timestep  : 1735920, episodic_reward: 32.39588848658486, value_loss: 1.4370883703231812, policy_loss: -0.4267284870147705, entropy_loss: 0.09591981023550034\n",
      "timestep  : 1743920, episodic_reward: 7.787013889542786, value_loss: 2.0341854095458984, policy_loss: 0.4495936930179596, entropy_loss: 0.09508232027292252\n",
      "timestep  : 1751920, episodic_reward: 8.498151392086248, value_loss: 235.3193817138672, policy_loss: -4.599202632904053, entropy_loss: 0.08709171414375305\n",
      "timestep  : 1759920, episodic_reward: -33.1724423864235, value_loss: 1.678794503211975, policy_loss: -0.4761294424533844, entropy_loss: 0.10473378002643585\n",
      "timestep  : 1767920, episodic_reward: -65.65759353947479, value_loss: 2.4295785427093506, policy_loss: 0.48298388719558716, entropy_loss: 0.09754806756973267\n",
      "timestep  : 1775920, episodic_reward: -66.0011899234624, value_loss: 1.7503032684326172, policy_loss: -0.4858247637748718, entropy_loss: 0.10681094974279404\n",
      "timestep  : 1783920, episodic_reward: -63.09498291313772, value_loss: 2.2345199584960938, policy_loss: 0.2515968680381775, entropy_loss: 0.09115177392959595\n",
      "timestep  : 1791920, episodic_reward: -60.457782301860306, value_loss: 4.363552570343018, policy_loss: -0.658854603767395, entropy_loss: 0.09152813255786896\n",
      "timestep  : 1799920, episodic_reward: -41.341171997653504, value_loss: 1.4131237268447876, policy_loss: 0.20497886836528778, entropy_loss: 0.08924077451229095\n",
      "timestep  : 1807920, episodic_reward: -11.413787470218908, value_loss: 10.449478149414062, policy_loss: -0.4470541477203369, entropy_loss: 0.08742540329694748\n",
      "timestep  : 1815920, episodic_reward: 0.3851908632451437, value_loss: 2.314443826675415, policy_loss: -0.2378607988357544, entropy_loss: 0.10392355173826218\n",
      "timestep  : 1823920, episodic_reward: 5.7372521864466215, value_loss: 1.493798017501831, policy_loss: -0.20785340666770935, entropy_loss: 0.10044228285551071\n",
      "timestep  : 1831920, episodic_reward: -8.523153891405961, value_loss: 1.6098581552505493, policy_loss: -0.2839403450489044, entropy_loss: 0.10105959326028824\n"
     ]
    },
    {
     "name": "stdout",
     "output_type": "stream",
     "text": [
      "timestep  : 1839920, episodic_reward: -0.6364188147875374, value_loss: 2.1987202167510986, policy_loss: -0.6127950549125671, entropy_loss: 0.0915670096874237\n",
      "timestep  : 1847920, episodic_reward: 6.658532114482855, value_loss: 1.9369741678237915, policy_loss: 0.006868789903819561, entropy_loss: 0.09590213000774384\n",
      "timestep  : 1855920, episodic_reward: -9.143074680100307, value_loss: 2.0452609062194824, policy_loss: 0.34169381856918335, entropy_loss: 0.09129587560892105\n",
      "timestep  : 1863920, episodic_reward: -15.733989629567336, value_loss: 1.4338865280151367, policy_loss: -0.6271981000900269, entropy_loss: 0.091999851167202\n",
      "timestep  : 1871920, episodic_reward: -13.24852899865798, value_loss: 3.595991611480713, policy_loss: 0.057608626782894135, entropy_loss: 0.09809029847383499\n",
      "timestep  : 1879920, episodic_reward: -12.552042481952487, value_loss: 2.2961792945861816, policy_loss: -0.7353233098983765, entropy_loss: 0.09521651268005371\n",
      "timestep  : 1887920, episodic_reward: -18.778084778998686, value_loss: 2.0942623615264893, policy_loss: -0.35313886404037476, entropy_loss: 0.09487251192331314\n",
      "timestep  : 1895920, episodic_reward: -22.396907397360728, value_loss: 2.0137112140655518, policy_loss: -0.08356402814388275, entropy_loss: 0.10305154323577881\n",
      "timestep  : 1903920, episodic_reward: -21.13139450241305, value_loss: 1.3342311382293701, policy_loss: 0.2889138460159302, entropy_loss: 0.09457578510046005\n",
      "timestep  : 1911920, episodic_reward: -20.635904852546652, value_loss: 1.0809710025787354, policy_loss: -0.2266729325056076, entropy_loss: 0.09186664968729019\n",
      "timestep  : 1919920, episodic_reward: -13.663332709341164, value_loss: 26.048053741455078, policy_loss: 0.22717002034187317, entropy_loss: 0.07409870624542236\n",
      "timestep  : 1927920, episodic_reward: 4.807348035104577, value_loss: 1.6291618347167969, policy_loss: -0.38177376985549927, entropy_loss: 0.08623288571834564\n",
      "timestep  : 1935920, episodic_reward: 14.148977173033604, value_loss: 1.8099679946899414, policy_loss: -0.4140249192714691, entropy_loss: 0.08895818889141083\n",
      "timestep  : 1943920, episodic_reward: 14.345347733746493, value_loss: 9.33384895324707, policy_loss: -1.0143048763275146, entropy_loss: 0.08983581513166428\n",
      "timestep  : 1951920, episodic_reward: 29.27574245097453, value_loss: 90.19715881347656, policy_loss: 1.1990047693252563, entropy_loss: 0.08402851223945618\n",
      "timestep  : 1959920, episodic_reward: 17.139070962208415, value_loss: 2.396923065185547, policy_loss: 0.2778308689594269, entropy_loss: 0.09736836701631546\n",
      "timestep  : 1967920, episodic_reward: -7.747320505657431, value_loss: 6.946859836578369, policy_loss: 0.24701380729675293, entropy_loss: 0.09424182772636414\n",
      "timestep  : 1975920, episodic_reward: -13.846058031383711, value_loss: 0.9708053469657898, policy_loss: 0.08017118275165558, entropy_loss: 0.09107892960309982\n",
      "timestep  : 1983920, episodic_reward: -21.31882241942737, value_loss: 7.395246982574463, policy_loss: -0.018081331625580788, entropy_loss: 0.0918893963098526\n",
      "timestep  : 1991920, episodic_reward: -33.951753301528505, value_loss: 2.155155658721924, policy_loss: 0.23544439673423767, entropy_loss: 0.08654730767011642\n",
      "timestep  : 1999920, episodic_reward: -49.82886063487957, value_loss: 8.116337776184082, policy_loss: -0.6293454766273499, entropy_loss: 0.08689390867948532\n",
      "timestep  : 2007920, episodic_reward: -39.751455566887905, value_loss: 152.2959442138672, policy_loss: -0.3758437931537628, entropy_loss: 0.07819711416959763\n",
      "timestep  : 2015920, episodic_reward: -5.277636436702853, value_loss: 3.7340407371520996, policy_loss: -0.8325966000556946, entropy_loss: 0.09563514590263367\n",
      "timestep  : 2023920, episodic_reward: 29.158561873045755, value_loss: 18.398155212402344, policy_loss: -0.3742949664592743, entropy_loss: 0.08640903234481812\n",
      "timestep  : 2031920, episodic_reward: 42.20722119132922, value_loss: 2.2768940925598145, policy_loss: -0.061792802065610886, entropy_loss: 0.10183607786893845\n",
      "timestep  : 2039920, episodic_reward: 53.84971238604372, value_loss: 4.36021614074707, policy_loss: -1.0892282724380493, entropy_loss: 0.1007598266005516\n",
      "timestep  : 2047920, episodic_reward: 65.75887351529047, value_loss: 1.4753895998001099, policy_loss: -0.42759203910827637, entropy_loss: 0.09140755981206894\n",
      "timestep  : 2055920, episodic_reward: 92.14211276933865, value_loss: 1.9548356533050537, policy_loss: -0.07611773908138275, entropy_loss: 0.0914168506860733\n",
      "timestep  : 2063920, episodic_reward: 111.647166409784, value_loss: 34.48291778564453, policy_loss: 1.1995720863342285, entropy_loss: 0.08706604689359665\n",
      "timestep  : 2071920, episodic_reward: 167.70193430500802, value_loss: 0.9778738021850586, policy_loss: -0.13447877764701843, entropy_loss: 0.10256464779376984\n",
      "timestep  : 2079920, episodic_reward: 200.90929592383756, value_loss: 582.7633056640625, policy_loss: -0.8378342390060425, entropy_loss: 0.09432557970285416\n",
      "timestep  : 2087920, episodic_reward: 193.49890073901094, value_loss: 12.271833419799805, policy_loss: 0.6637820601463318, entropy_loss: 0.0655190572142601\n",
      "timestep  : 2095920, episodic_reward: 205.81919510068587, value_loss: 2.662423610687256, policy_loss: 0.09743565320968628, entropy_loss: 0.05499947816133499\n",
      "timestep  : 2103920, episodic_reward: 197.08203456153714, value_loss: 2.9794974327087402, policy_loss: -0.6339513063430786, entropy_loss: 0.07566658407449722\n",
      "timestep  : 2111920, episodic_reward: 195.47721478870864, value_loss: 0.4869672358036041, policy_loss: -0.07194345444440842, entropy_loss: 0.056258320808410645\n",
      "timestep  : 2119920, episodic_reward: 169.29543670435586, value_loss: 0.9257386922836304, policy_loss: -0.6271623373031616, entropy_loss: 0.07084210962057114\n",
      "timestep  : 2127920, episodic_reward: 154.15691500623808, value_loss: 5.862051010131836, policy_loss: 0.5208109021186829, entropy_loss: 0.06691505759954453\n",
      "timestep  : 2135920, episodic_reward: 142.1434811337193, value_loss: 0.6186426281929016, policy_loss: 0.015149122104048729, entropy_loss: 0.06105181574821472\n",
      "timestep  : 2143920, episodic_reward: 132.338887141116, value_loss: 4.869067192077637, policy_loss: 0.32892727851867676, entropy_loss: 0.06366058439016342\n",
      "timestep  : 2151920, episodic_reward: 101.77521322802457, value_loss: 1.241045594215393, policy_loss: 0.06882994621992111, entropy_loss: 0.06105181202292442\n",
      "timestep  : 2159920, episodic_reward: 128.92916588436938, value_loss: 47.82501983642578, policy_loss: 0.3996112644672394, entropy_loss: 0.06452559679746628\n",
      "timestep  : 2167920, episodic_reward: 121.2802146881249, value_loss: 36.39913558959961, policy_loss: 0.46557703614234924, entropy_loss: 0.07630890607833862\n",
      "timestep  : 2175920, episodic_reward: 139.88996326617146, value_loss: 5.1818084716796875, policy_loss: -0.1378369778394699, entropy_loss: 0.06771904975175858\n",
      "timestep  : 2183920, episodic_reward: 175.93765973064433, value_loss: 2.459348201751709, policy_loss: 0.20041318237781525, entropy_loss: 0.056924548000097275\n",
      "timestep  : 2191920, episodic_reward: 178.1525381636229, value_loss: 7.57388973236084, policy_loss: -0.21270008385181427, entropy_loss: 0.06517406553030014\n",
      "timestep  : 2199920, episodic_reward: 144.66515250619372, value_loss: 43.67864227294922, policy_loss: 0.5352298021316528, entropy_loss: 0.07442142814397812\n",
      "timestep  : 2207920, episodic_reward: 122.41229425703564, value_loss: 18.924341201782227, policy_loss: -0.3217986822128296, entropy_loss: 0.06665577739477158\n",
      "timestep  : 2215920, episodic_reward: 140.2664222227502, value_loss: 1.8584187030792236, policy_loss: -1.2384545803070068, entropy_loss: 0.08111556619405746\n",
      "timestep  : 2223920, episodic_reward: 155.10457619233125, value_loss: 2.285121440887451, policy_loss: -0.4043938219547272, entropy_loss: 0.07167913764715195\n",
      "timestep  : 2231920, episodic_reward: 174.37059628680024, value_loss: 2.332305908203125, policy_loss: 0.08579637855291367, entropy_loss: 0.05792936310172081\n",
      "timestep  : 2239920, episodic_reward: 198.84167887680545, value_loss: 31.46014404296875, policy_loss: 1.0963491201400757, entropy_loss: 0.07055460661649704\n",
      "timestep  : 2247920, episodic_reward: 204.79285317767824, value_loss: 6.188889503479004, policy_loss: -1.6333897113800049, entropy_loss: 0.07993999868631363\n",
      "timestep  : 2255920, episodic_reward: 209.8256647706808, value_loss: 39.31513214111328, policy_loss: -0.04057963937520981, entropy_loss: 0.0674833282828331\n"
     ]
    },
    {
     "name": "stdout",
     "output_type": "stream",
     "text": [
      "timestep  : 2263920, episodic_reward: 196.84349819495162, value_loss: 1.5050843954086304, policy_loss: -0.6442278027534485, entropy_loss: 0.07536616176366806\n",
      "timestep  : 2271920, episodic_reward: 182.11224985399267, value_loss: 3.0177512168884277, policy_loss: -1.0490694046020508, entropy_loss: 0.06910540908575058\n",
      "timestep  : 2279920, episodic_reward: 155.36906830503676, value_loss: 1.070870280265808, policy_loss: -0.24897520244121552, entropy_loss: 0.06882990896701813\n",
      "timestep  : 2287920, episodic_reward: 145.62831780595448, value_loss: 0.5758696794509888, policy_loss: 0.02183401584625244, entropy_loss: 0.06490574777126312\n",
      "timestep  : 2295920, episodic_reward: 184.58031783535907, value_loss: 8.667265892028809, policy_loss: 0.5502911806106567, entropy_loss: 0.07819308340549469\n",
      "timestep  : 2303920, episodic_reward: 196.54585363739835, value_loss: 0.9148141741752625, policy_loss: -0.24581082165241241, entropy_loss: 0.05054480582475662\n",
      "timestep  : 2311920, episodic_reward: 209.25402728990176, value_loss: 1.4082636833190918, policy_loss: -0.4028702676296234, entropy_loss: 0.06625205278396606\n",
      "timestep  : 2319920, episodic_reward: 182.2599256665197, value_loss: 19.23379898071289, policy_loss: 0.11422982066869736, entropy_loss: 0.06577318161725998\n",
      "timestep  : 2327920, episodic_reward: 150.71948276337375, value_loss: 6.159220218658447, policy_loss: 0.7900394797325134, entropy_loss: 0.058964211493730545\n",
      "timestep  : 2335920, episodic_reward: 156.21167114970993, value_loss: 1.6350387334823608, policy_loss: 0.107794389128685, entropy_loss: 0.06900474429130554\n",
      "timestep  : 2343920, episodic_reward: 186.61765874888482, value_loss: 1.1876550912857056, policy_loss: -0.10507987439632416, entropy_loss: 0.06428124755620956\n",
      "timestep  : 2351920, episodic_reward: 218.15736715753107, value_loss: 23.116098403930664, policy_loss: 0.7392610311508179, entropy_loss: 0.06827276945114136\n",
      "timestep  : 2359920, episodic_reward: 242.4598450186371, value_loss: 22.278827667236328, policy_loss: 3.021190881729126, entropy_loss: 0.06273569166660309\n",
      "timestep  : 2367920, episodic_reward: 224.9865425787708, value_loss: 11.066826820373535, policy_loss: 0.47437772154808044, entropy_loss: 0.06746584922075272\n",
      "timestep  : 2375920, episodic_reward: 168.71812990084965, value_loss: 1.0977182388305664, policy_loss: -0.01740889623761177, entropy_loss: 0.06215985491871834\n",
      "timestep  : 2383920, episodic_reward: 102.87650979962773, value_loss: 5.566124439239502, policy_loss: -0.1017359122633934, entropy_loss: 0.06572689861059189\n",
      "timestep  : 2391920, episodic_reward: 47.63298514164529, value_loss: 1.3632999658584595, policy_loss: -0.37503597140312195, entropy_loss: 0.07593689858913422\n",
      "timestep  : 2399920, episodic_reward: 26.861650700067145, value_loss: 21.316707611083984, policy_loss: -0.22217759490013123, entropy_loss: 0.06708735227584839\n",
      "timestep  : 2407920, episodic_reward: 58.338611306671865, value_loss: 3.766775608062744, policy_loss: 0.32045722007751465, entropy_loss: 0.08188161998987198\n",
      "timestep  : 2415920, episodic_reward: 91.89128694717674, value_loss: 1.925941824913025, policy_loss: -0.637261688709259, entropy_loss: 0.10013540089130402\n",
      "timestep  : 2423920, episodic_reward: 95.1749955679281, value_loss: 1.918028473854065, policy_loss: 0.01777193509042263, entropy_loss: 0.09127569198608398\n",
      "timestep  : 2431920, episodic_reward: 91.335122647768, value_loss: 2.800178050994873, policy_loss: -0.12149715423583984, entropy_loss: 0.09882968664169312\n",
      "timestep  : 2439920, episodic_reward: 84.56900891863319, value_loss: 2.4878005981445312, policy_loss: -0.5294545292854309, entropy_loss: 0.09406262636184692\n",
      "timestep  : 2447920, episodic_reward: 71.1957711997542, value_loss: 1.8477156162261963, policy_loss: -0.2549099326133728, entropy_loss: 0.09418796002864838\n",
      "timestep  : 2455920, episodic_reward: 42.21133650691669, value_loss: 1.234000325202942, policy_loss: -0.7197930812835693, entropy_loss: 0.09628041833639145\n",
      "timestep  : 2463920, episodic_reward: 6.74789428554468, value_loss: 3.376993179321289, policy_loss: -0.311988890171051, entropy_loss: 0.09359709173440933\n",
      "timestep  : 2471920, episodic_reward: -1.8923146760542318, value_loss: 2.2057108879089355, policy_loss: 0.4884963929653168, entropy_loss: 0.10475064814090729\n",
      "timestep  : 2479920, episodic_reward: -7.688484876269637, value_loss: 1.1409194469451904, policy_loss: -0.648940920829773, entropy_loss: 0.09849172085523605\n",
      "timestep  : 2487920, episodic_reward: -12.489519737773932, value_loss: 3.1212313175201416, policy_loss: 0.6084533929824829, entropy_loss: 0.09287817031145096\n",
      "timestep  : 2495920, episodic_reward: -17.99725183479803, value_loss: 1.0716344118118286, policy_loss: -0.2618866562843323, entropy_loss: 0.09409778565168381\n",
      "timestep  : 2503920, episodic_reward: -21.26148245689582, value_loss: 2.597541332244873, policy_loss: -0.09987220913171768, entropy_loss: 0.08677220344543457\n",
      "timestep  : 2511920, episodic_reward: -17.73689310109842, value_loss: 1.3401081562042236, policy_loss: -0.05827265977859497, entropy_loss: 0.1043657660484314\n",
      "timestep  : 2519920, episodic_reward: -18.086829577130956, value_loss: 2.35703706741333, policy_loss: 0.09065255522727966, entropy_loss: 0.08993156999349594\n",
      "timestep  : 2527920, episodic_reward: -14.999374989409764, value_loss: 1.7231690883636475, policy_loss: -0.8720257878303528, entropy_loss: 0.08814643323421478\n",
      "timestep  : 2535920, episodic_reward: -10.720860742558639, value_loss: 1.6080539226531982, policy_loss: -0.641530454158783, entropy_loss: 0.10062430053949356\n",
      "timestep  : 2543920, episodic_reward: -16.837351089808134, value_loss: 110.78984069824219, policy_loss: -0.00958338938653469, entropy_loss: 0.08680140227079391\n",
      "timestep  : 2551920, episodic_reward: -14.036680391166453, value_loss: 1.2634142637252808, policy_loss: -0.7538889050483704, entropy_loss: 0.09088186174631119\n",
      "timestep  : 2559920, episodic_reward: -33.862150592227074, value_loss: 12.763618469238281, policy_loss: 0.8123492002487183, entropy_loss: 0.08874553442001343\n",
      "timestep  : 2567920, episodic_reward: -36.10103466477969, value_loss: 0.7642084360122681, policy_loss: -0.40419769287109375, entropy_loss: 0.09179778397083282\n",
      "timestep  : 2575920, episodic_reward: -39.128781493238805, value_loss: 11.716926574707031, policy_loss: -0.1600862741470337, entropy_loss: 0.09114187955856323\n",
      "timestep  : 2583920, episodic_reward: -31.225159077030675, value_loss: 2.392183303833008, policy_loss: 0.751197099685669, entropy_loss: 0.0868881344795227\n",
      "timestep  : 2591920, episodic_reward: -37.71536500491432, value_loss: 11.902414321899414, policy_loss: -0.6207050085067749, entropy_loss: 0.08308359235525131\n",
      "timestep  : 2599920, episodic_reward: -34.994376803471006, value_loss: 1.6977638006210327, policy_loss: -0.4642777442932129, entropy_loss: 0.09464498609304428\n",
      "timestep  : 2607920, episodic_reward: -29.05726489209759, value_loss: 1.611295461654663, policy_loss: 0.06913633644580841, entropy_loss: 0.09284573048353195\n",
      "timestep  : 2615920, episodic_reward: -28.217353644111284, value_loss: 1.341214895248413, policy_loss: 0.2499278038740158, entropy_loss: 0.08024222403764725\n",
      "timestep  : 2623920, episodic_reward: -33.48997805401529, value_loss: 1.858377456665039, policy_loss: 0.15430811047554016, entropy_loss: 0.0794324055314064\n",
      "timestep  : 2631920, episodic_reward: -5.119600290042666, value_loss: 1.5762910842895508, policy_loss: -0.26483529806137085, entropy_loss: 0.08916797488927841\n",
      "timestep  : 2639920, episodic_reward: 37.43652064579189, value_loss: 1.2903188467025757, policy_loss: -0.006691201124340296, entropy_loss: 0.08921884000301361\n",
      "timestep  : 2647920, episodic_reward: 83.68776331560365, value_loss: 45.22665786743164, policy_loss: 0.3893691599369049, entropy_loss: 0.08453001081943512\n",
      "timestep  : 2655920, episodic_reward: 134.4313097109855, value_loss: 2.0907461643218994, policy_loss: -0.13958126306533813, entropy_loss: 0.07641953229904175\n",
      "timestep  : 2663920, episodic_reward: 158.18122222227575, value_loss: 0.4886460304260254, policy_loss: -0.02978643774986267, entropy_loss: 0.06288613379001617\n",
      "timestep  : 2671920, episodic_reward: 147.6099561354009, value_loss: 1.5167557001113892, policy_loss: 0.4824494421482086, entropy_loss: 0.0803445503115654\n",
      "timestep  : 2679920, episodic_reward: 139.96702699912342, value_loss: 0.38331902027130127, policy_loss: -0.0768791139125824, entropy_loss: 0.07580215483903885\n"
     ]
    },
    {
     "name": "stdout",
     "output_type": "stream",
     "text": [
      "timestep  : 2687920, episodic_reward: 139.00937774899774, value_loss: 1.5535619258880615, policy_loss: -0.45856133103370667, entropy_loss: 0.09612768143415451\n",
      "timestep  : 2695920, episodic_reward: 111.4570003338275, value_loss: 1.1178534030914307, policy_loss: 0.3182411193847656, entropy_loss: 0.0854605957865715\n",
      "timestep  : 2703920, episodic_reward: 65.48647327093107, value_loss: 5.663890838623047, policy_loss: 1.145372986793518, entropy_loss: 0.06868723034858704\n",
      "timestep  : 2711920, episodic_reward: 53.487660186008306, value_loss: 1.5602896213531494, policy_loss: -0.7829585075378418, entropy_loss: 0.08939126878976822\n",
      "timestep  : 2719920, episodic_reward: 55.629907245347255, value_loss: 2.389347553253174, policy_loss: -0.3297775685787201, entropy_loss: 0.10122491419315338\n",
      "timestep  : 2727920, episodic_reward: 33.54442711015321, value_loss: 1.4381191730499268, policy_loss: 0.17193672060966492, entropy_loss: 0.10267817229032516\n",
      "timestep  : 2735920, episodic_reward: 2.8472216294157864, value_loss: 14.09979248046875, policy_loss: -0.8970013856887817, entropy_loss: 0.08919738233089447\n",
      "timestep  : 2743920, episodic_reward: -20.765402289824156, value_loss: 7.0228590965271, policy_loss: -0.07476479560136795, entropy_loss: 0.07515128701925278\n",
      "timestep  : 2751920, episodic_reward: -59.496652303614404, value_loss: 1.6161010265350342, policy_loss: -0.08995948731899261, entropy_loss: 0.08324935287237167\n",
      "timestep  : 2759920, episodic_reward: -63.548578282909354, value_loss: 1.3563768863677979, policy_loss: -0.638219952583313, entropy_loss: 0.08177419751882553\n",
      "timestep  : 2767920, episodic_reward: -69.70502198811391, value_loss: 2.0847485065460205, policy_loss: 0.2531081736087799, entropy_loss: 0.07990085333585739\n",
      "timestep  : 2775920, episodic_reward: -52.87641669818037, value_loss: 2.471558094024658, policy_loss: 0.30841201543807983, entropy_loss: 0.07786571234464645\n",
      "timestep  : 2783920, episodic_reward: -48.05701615440184, value_loss: 1.0619232654571533, policy_loss: -0.25525617599487305, entropy_loss: 0.07789413630962372\n",
      "timestep  : 2791920, episodic_reward: -29.2984345953912, value_loss: 2.4489474296569824, policy_loss: -0.2674235999584198, entropy_loss: 0.08159950375556946\n",
      "timestep  : 2799920, episodic_reward: -23.69971672201289, value_loss: 20.66448974609375, policy_loss: 0.039168909192085266, entropy_loss: 0.06122917681932449\n",
      "timestep  : 2807920, episodic_reward: 13.529375559389875, value_loss: 2.6654772758483887, policy_loss: -0.5735412240028381, entropy_loss: 0.08450956642627716\n",
      "timestep  : 2815920, episodic_reward: 56.15636198976682, value_loss: 34.86855697631836, policy_loss: 0.18676424026489258, entropy_loss: 0.07466088980436325\n",
      "timestep  : 2823920, episodic_reward: 51.515642668789, value_loss: 1.8533837795257568, policy_loss: -0.4281916618347168, entropy_loss: 0.08585619181394577\n",
      "timestep  : 2831920, episodic_reward: 2.8413900995766634, value_loss: 1.2923781871795654, policy_loss: -0.4015444815158844, entropy_loss: 0.09200668334960938\n",
      "timestep  : 2839920, episodic_reward: -20.805315614495303, value_loss: 1.6626449823379517, policy_loss: 0.38878947496414185, entropy_loss: 0.06602337211370468\n",
      "timestep  : 2847920, episodic_reward: -18.625858007576884, value_loss: 1.8958408832550049, policy_loss: -0.2129540741443634, entropy_loss: 0.08105543255805969\n",
      "timestep  : 2855920, episodic_reward: 0.26781799558375385, value_loss: 1.8221790790557861, policy_loss: 0.16330134868621826, entropy_loss: 0.08091425895690918\n",
      "timestep  : 2863920, episodic_reward: 2.498871376722067, value_loss: 1.5110270977020264, policy_loss: -0.10592643171548843, entropy_loss: 0.07538691908121109\n",
      "timestep  : 2871920, episodic_reward: 2.365915078919943, value_loss: 1.5951987504959106, policy_loss: -0.13314028084278107, entropy_loss: 0.09383992105722427\n",
      "timestep  : 2879920, episodic_reward: -1.8692325360248478, value_loss: 1.1101374626159668, policy_loss: -0.44008946418762207, entropy_loss: 0.07552336156368256\n",
      "timestep  : 2887920, episodic_reward: 2.8422200464226592, value_loss: 25.672595977783203, policy_loss: -0.4788593649864197, entropy_loss: 0.08019434660673141\n",
      "timestep  : 2895920, episodic_reward: 0.8365154108737934, value_loss: 6.175229072570801, policy_loss: 0.09358818829059601, entropy_loss: 0.08055299520492554\n",
      "timestep  : 2903920, episodic_reward: 62.28188621871831, value_loss: 1.6588901281356812, policy_loss: -0.49560585618019104, entropy_loss: 0.09404726326465607\n",
      "timestep  : 2911920, episodic_reward: 118.11440075161147, value_loss: 1.2219388484954834, policy_loss: 0.01804407313466072, entropy_loss: 0.08423279970884323\n",
      "timestep  : 2919920, episodic_reward: 172.03611102838104, value_loss: 6.893769264221191, policy_loss: 0.1426839828491211, entropy_loss: 0.09204547852277756\n",
      "timestep  : 2927920, episodic_reward: 156.5037093322174, value_loss: 38.70256423950195, policy_loss: -0.4797767102718353, entropy_loss: 0.0926378071308136\n",
      "timestep  : 2935920, episodic_reward: 129.5726952847285, value_loss: 1.1495113372802734, policy_loss: -0.2774845361709595, entropy_loss: 0.09336164593696594\n",
      "timestep  : 2943920, episodic_reward: 100.47070325842718, value_loss: 1.2165430784225464, policy_loss: -0.21392624080181122, entropy_loss: 0.08925656229257584\n",
      "timestep  : 2951920, episodic_reward: 94.63448208591585, value_loss: 0.49926525354385376, policy_loss: 0.0039013982750475407, entropy_loss: 0.08984687179327011\n",
      "timestep  : 2959920, episodic_reward: 109.45394288880962, value_loss: 0.9255279302597046, policy_loss: -0.40042728185653687, entropy_loss: 0.07143884897232056\n",
      "timestep  : 2967920, episodic_reward: 100.58912570838218, value_loss: 0.6573933362960815, policy_loss: -0.3143736720085144, entropy_loss: 0.08211152255535126\n",
      "timestep  : 2975920, episodic_reward: 93.40758016654063, value_loss: 0.7163600921630859, policy_loss: -0.16095659136772156, entropy_loss: 0.07886456698179245\n",
      "timestep  : 2983920, episodic_reward: 108.5426396697656, value_loss: 22.902156829833984, policy_loss: -0.13848905265331268, entropy_loss: 0.07163046300411224\n",
      "timestep  : 2991920, episodic_reward: 92.28496583729864, value_loss: 0.85121089220047, policy_loss: -0.32807907462120056, entropy_loss: 0.06788422167301178\n",
      "timestep  : 2999920, episodic_reward: 119.03586651799048, value_loss: 1.0655757188796997, policy_loss: 0.18537786602973938, entropy_loss: 0.08567550033330917\n"
     ]
    }
   ],
   "source": [
    "!python pg/a2c/box2d.py --log-dir ./log/a2c_lunar"
   ]
  },
  {
   "cell_type": "code",
   "execution_count": 18,
   "metadata": {
    "ExecuteTime": {
     "end_time": "2021-05-26T19:30:35.794695Z",
     "start_time": "2021-05-26T19:30:35.792457Z"
    }
   },
   "outputs": [
    {
     "data": {
      "application/vnd.jupyter.widget-view+json": {
       "model_id": "48bce3396bf5451eb46e24a4b281df72",
       "version_major": 2,
       "version_minor": 0
      },
      "text/plain": [
       "VBox(children=(Dropdown(description='X axis', options=('timestep',), value=None), Dropdown(description='Y axis…"
      ]
     },
     "execution_count": 18,
     "metadata": {},
     "output_type": "execute_result"
    }
   ],
   "source": [
    "# Plot Experiment 1\n",
    "import os\n",
    "import pandas as pd\n",
    "from pg.visualize import Plotter\n",
    "\n",
    "log_dir = os.path.join(\"log\", \"a2c_lunar\")\n",
    "df_dict = {\n",
    "    \"a2c lunar\": [pd.read_csv(os.path.join(log_dir, folder, \"progress.csv\"))\n",
    "                for folder in os.listdir(log_dir)]\n",
    "}\n",
    "plotter = Plotter(df_dict)\n",
    "plotter()"
   ]
  },
  {
   "cell_type": "code",
   "execution_count": 48,
   "metadata": {},
   "outputs": [
    {
     "name": "stdout",
     "output_type": "stream",
     "text": [
      "A.L.E: Arcade Learning Environment (version 0.7.5+db37282)\n",
      "[Powered by Stella]\n",
      "cuda\n",
      "Logging at: ./log/a2c_pong/05-26-2024-16-30-08\n",
      "pg/a2c/pong.py:105: FutureWarning: arrays to stack must be passed as a \"sequence\" type such as list or tuple. Support for non-sequence iterables such as generators is deprecated as of NumPy 1.16 and will raise an error in the future.\n",
      "  agent.learn()\n",
      "timestep  :  15840, episodic_reward:  -21.0, value_loss: 0.025330621749162674, policy_loss: 0.05314486473798752, entropy_loss: 0.006906167604029179\n",
      "timestep  :  31840, episodic_reward: -20.68, value_loss: 0.01362847350537777, policy_loss: -0.0019184043630957603, entropy_loss: 0.006870466284453869\n",
      "timestep  :  47840, episodic_reward: -20.32, value_loss: 0.1817772090435028, policy_loss: 0.007553027011454105, entropy_loss: 0.005268241744488478\n",
      "timestep  :  63840, episodic_reward: -20.88, value_loss: 0.034315403550863266, policy_loss: -0.04041040688753128, entropy_loss: 0.006691263988614082\n",
      "timestep  :  79840, episodic_reward:  -20.8, value_loss: 0.022689130157232285, policy_loss: 0.005036736838519573, entropy_loss: 0.006779203191399574\n",
      "timestep  :  95840, episodic_reward:  -20.6, value_loss: 0.015189980156719685, policy_loss: -0.05763586610555649, entropy_loss: 0.006840800866484642\n",
      "timestep  : 111840, episodic_reward: -20.72, value_loss: 0.015043528750538826, policy_loss: 0.037956833839416504, entropy_loss: 0.006736602634191513\n",
      "timestep  : 127840, episodic_reward: -20.84, value_loss: 0.03052828088402748, policy_loss: -0.0574297234416008, entropy_loss: 0.0067484742030501366\n",
      "timestep  : 143840, episodic_reward: -20.28, value_loss: 0.013678787276148796, policy_loss: -0.03598541021347046, entropy_loss: 0.006849867757409811\n",
      "timestep  : 159840, episodic_reward: -20.28, value_loss: 0.010752258822321892, policy_loss: -0.022817181423306465, entropy_loss: 0.006763881072402\n",
      "timestep  : 175840, episodic_reward:  -20.4, value_loss: 0.2909563183784485, policy_loss: 0.038802485913038254, entropy_loss: 0.004955492448061705\n",
      "timestep  : 191840, episodic_reward: -20.92, value_loss: 0.15857724845409393, policy_loss: 0.0982711911201477, entropy_loss: 0.006291125435382128\n",
      "timestep  : 207840, episodic_reward: -20.92, value_loss: 0.010884433053433895, policy_loss: -0.06080557033419609, entropy_loss: 0.006644147448241711\n",
      "timestep  : 223840, episodic_reward: -20.68, value_loss: 0.1332956850528717, policy_loss: 0.06339817494153976, entropy_loss: 0.006686279084533453\n",
      "timestep  : 239840, episodic_reward: -20.48, value_loss: 0.19425036013126373, policy_loss: 0.12096185982227325, entropy_loss: 0.006668024696409702\n",
      "timestep  : 255840, episodic_reward:  -20.8, value_loss: 0.01604166068136692, policy_loss: -0.025110160931944847, entropy_loss: 0.00660040182992816\n",
      "timestep  : 271840, episodic_reward: -20.52, value_loss: 0.012271443381905556, policy_loss: 0.024493955075740814, entropy_loss: 0.0065171620808541775\n",
      "timestep  : 287840, episodic_reward: -20.68, value_loss: 0.030666878446936607, policy_loss: -0.017872806638479233, entropy_loss: 0.006579452659934759\n",
      "timestep  : 303840, episodic_reward: -20.44, value_loss: 0.00640901317819953, policy_loss: -0.040220241993665695, entropy_loss: 0.006658215541392565\n",
      "timestep  : 319840, episodic_reward:  -20.6, value_loss: 0.0033042081631720066, policy_loss: -0.014185367152094841, entropy_loss: 0.00607571704313159\n",
      "timestep  : 335840, episodic_reward: -20.88, value_loss: 0.0094209685921669, policy_loss: -0.017971400171518326, entropy_loss: 0.006324819754809141\n",
      "timestep  : 351840, episodic_reward: -20.88, value_loss: 0.006605298258364201, policy_loss: 0.022106017917394638, entropy_loss: 0.006510058883577585\n",
      "timestep  : 367840, episodic_reward:  -20.8, value_loss: 0.15430928766727448, policy_loss: 0.06785628199577332, entropy_loss: 0.0067299362272024155\n",
      "timestep  : 383840, episodic_reward:  -20.4, value_loss: 0.0032320574391633272, policy_loss: -0.0033826357685029507, entropy_loss: 0.006689069792628288\n",
      "timestep  : 399840, episodic_reward: -20.52, value_loss: 0.011156106367707253, policy_loss: 0.01296347938477993, entropy_loss: 0.006690163630992174\n",
      "timestep  : 415840, episodic_reward: -20.72, value_loss: 0.41347336769104004, policy_loss: 0.18623705208301544, entropy_loss: 0.0067629143595695496\n",
      "timestep  : 431840, episodic_reward: -20.56, value_loss: 0.003909324295818806, policy_loss: 0.00104532518889755, entropy_loss: 0.006669462658464909\n",
      "timestep  : 447840, episodic_reward:  -20.4, value_loss: 0.02389976754784584, policy_loss: 0.03691885620355606, entropy_loss: 0.006724249105900526\n",
      "timestep  : 463840, episodic_reward: -20.36, value_loss: 0.006531404796987772, policy_loss: -0.004429021384567022, entropy_loss: 0.006620274856686592\n",
      "timestep  : 479840, episodic_reward: -20.52, value_loss: 0.00721393758431077, policy_loss: -0.013594990596175194, entropy_loss: 0.006509669125080109\n",
      "timestep  : 495840, episodic_reward:  -20.6, value_loss: 0.007067214697599411, policy_loss: -0.016051316633820534, entropy_loss: 0.006563305854797363\n",
      "timestep  : 511840, episodic_reward: -20.64, value_loss: 0.03656664490699768, policy_loss: 0.0037907958030700684, entropy_loss: 0.006433291360735893\n",
      "timestep  : 527840, episodic_reward: -20.28, value_loss: 0.01159745454788208, policy_loss: -0.0404684916138649, entropy_loss: 0.006058641709387302\n"
     ]
    },
    {
     "ename": "KeyboardInterrupt",
     "evalue": "",
     "output_type": "error",
     "traceback": [
      "\u001b[0;31m---------------------------------------------------------------------------\u001b[0m",
      "\u001b[0;31mKeyboardInterrupt\u001b[0m                         Traceback (most recent call last)",
      "\u001b[0;32m~/miniconda3/envs/rlhw3/lib/python3.7/site-packages/IPython/utils/_process_posix.py\u001b[0m in \u001b[0;36msystem\u001b[0;34m(self, cmd)\u001b[0m\n\u001b[1;32m    161\u001b[0m                 \u001b[0;31m# know whether we've finished (if we matched EOF) or not\u001b[0m\u001b[0;34m\u001b[0m\u001b[0;34m\u001b[0m\u001b[0;34m\u001b[0m\u001b[0m\n\u001b[0;32m--> 162\u001b[0;31m                 \u001b[0mres_idx\u001b[0m \u001b[0;34m=\u001b[0m \u001b[0mchild\u001b[0m\u001b[0;34m.\u001b[0m\u001b[0mexpect_list\u001b[0m\u001b[0;34m(\u001b[0m\u001b[0mpatterns\u001b[0m\u001b[0;34m,\u001b[0m \u001b[0mself\u001b[0m\u001b[0;34m.\u001b[0m\u001b[0mread_timeout\u001b[0m\u001b[0;34m)\u001b[0m\u001b[0;34m\u001b[0m\u001b[0;34m\u001b[0m\u001b[0m\n\u001b[0m\u001b[1;32m    163\u001b[0m                 \u001b[0mprint\u001b[0m\u001b[0;34m(\u001b[0m\u001b[0mchild\u001b[0m\u001b[0;34m.\u001b[0m\u001b[0mbefore\u001b[0m\u001b[0;34m[\u001b[0m\u001b[0mout_size\u001b[0m\u001b[0;34m:\u001b[0m\u001b[0;34m]\u001b[0m\u001b[0;34m.\u001b[0m\u001b[0mdecode\u001b[0m\u001b[0;34m(\u001b[0m\u001b[0menc\u001b[0m\u001b[0;34m,\u001b[0m \u001b[0;34m'replace'\u001b[0m\u001b[0;34m)\u001b[0m\u001b[0;34m,\u001b[0m \u001b[0mend\u001b[0m\u001b[0;34m=\u001b[0m\u001b[0;34m''\u001b[0m\u001b[0;34m)\u001b[0m\u001b[0;34m\u001b[0m\u001b[0;34m\u001b[0m\u001b[0m\n",
      "\u001b[0;32m~/miniconda3/envs/rlhw3/lib/python3.7/site-packages/pexpect/spawnbase.py\u001b[0m in \u001b[0;36mexpect_list\u001b[0;34m(self, pattern_list, timeout, searchwindowsize, async_, **kw)\u001b[0m\n\u001b[1;32m    382\u001b[0m         \u001b[0;32melse\u001b[0m\u001b[0;34m:\u001b[0m\u001b[0;34m\u001b[0m\u001b[0;34m\u001b[0m\u001b[0m\n\u001b[0;32m--> 383\u001b[0;31m             \u001b[0;32mreturn\u001b[0m \u001b[0mexp\u001b[0m\u001b[0;34m.\u001b[0m\u001b[0mexpect_loop\u001b[0m\u001b[0;34m(\u001b[0m\u001b[0mtimeout\u001b[0m\u001b[0;34m)\u001b[0m\u001b[0;34m\u001b[0m\u001b[0;34m\u001b[0m\u001b[0m\n\u001b[0m\u001b[1;32m    384\u001b[0m \u001b[0;34m\u001b[0m\u001b[0m\n",
      "\u001b[0;32m~/miniconda3/envs/rlhw3/lib/python3.7/site-packages/pexpect/expect.py\u001b[0m in \u001b[0;36mexpect_loop\u001b[0;34m(self, timeout)\u001b[0m\n\u001b[1;32m    168\u001b[0m                 \u001b[0;31m# Still have time left, so read more data\u001b[0m\u001b[0;34m\u001b[0m\u001b[0;34m\u001b[0m\u001b[0;34m\u001b[0m\u001b[0m\n\u001b[0;32m--> 169\u001b[0;31m                 \u001b[0mincoming\u001b[0m \u001b[0;34m=\u001b[0m \u001b[0mspawn\u001b[0m\u001b[0;34m.\u001b[0m\u001b[0mread_nonblocking\u001b[0m\u001b[0;34m(\u001b[0m\u001b[0mspawn\u001b[0m\u001b[0;34m.\u001b[0m\u001b[0mmaxread\u001b[0m\u001b[0;34m,\u001b[0m \u001b[0mtimeout\u001b[0m\u001b[0;34m)\u001b[0m\u001b[0;34m\u001b[0m\u001b[0;34m\u001b[0m\u001b[0m\n\u001b[0m\u001b[1;32m    170\u001b[0m                 \u001b[0;32mif\u001b[0m \u001b[0mself\u001b[0m\u001b[0;34m.\u001b[0m\u001b[0mspawn\u001b[0m\u001b[0;34m.\u001b[0m\u001b[0mdelayafterread\u001b[0m \u001b[0;32mis\u001b[0m \u001b[0;32mnot\u001b[0m \u001b[0;32mNone\u001b[0m\u001b[0;34m:\u001b[0m\u001b[0;34m\u001b[0m\u001b[0;34m\u001b[0m\u001b[0m\n",
      "\u001b[0;32m~/miniconda3/envs/rlhw3/lib/python3.7/site-packages/pexpect/pty_spawn.py\u001b[0m in \u001b[0;36mread_nonblocking\u001b[0;34m(self, size, timeout)\u001b[0m\n\u001b[1;32m    499\u001b[0m         \u001b[0;31m# (possibly timeout=None), we call select() with a timeout.\u001b[0m\u001b[0;34m\u001b[0m\u001b[0;34m\u001b[0m\u001b[0;34m\u001b[0m\u001b[0m\n\u001b[0;32m--> 500\u001b[0;31m         \u001b[0;32mif\u001b[0m \u001b[0;34m(\u001b[0m\u001b[0mtimeout\u001b[0m \u001b[0;34m!=\u001b[0m \u001b[0;36m0\u001b[0m\u001b[0;34m)\u001b[0m \u001b[0;32mand\u001b[0m \u001b[0mselect\u001b[0m\u001b[0;34m(\u001b[0m\u001b[0mtimeout\u001b[0m\u001b[0;34m)\u001b[0m\u001b[0;34m:\u001b[0m\u001b[0;34m\u001b[0m\u001b[0;34m\u001b[0m\u001b[0m\n\u001b[0m\u001b[1;32m    501\u001b[0m             \u001b[0;32mreturn\u001b[0m \u001b[0msuper\u001b[0m\u001b[0;34m(\u001b[0m\u001b[0mspawn\u001b[0m\u001b[0;34m,\u001b[0m \u001b[0mself\u001b[0m\u001b[0;34m)\u001b[0m\u001b[0;34m.\u001b[0m\u001b[0mread_nonblocking\u001b[0m\u001b[0;34m(\u001b[0m\u001b[0msize\u001b[0m\u001b[0;34m)\u001b[0m\u001b[0;34m\u001b[0m\u001b[0;34m\u001b[0m\u001b[0m\n",
      "\u001b[0;32m~/miniconda3/envs/rlhw3/lib/python3.7/site-packages/pexpect/pty_spawn.py\u001b[0m in \u001b[0;36mselect\u001b[0;34m(timeout)\u001b[0m\n\u001b[1;32m    449\u001b[0m             \u001b[0;32mdef\u001b[0m \u001b[0mselect\u001b[0m\u001b[0;34m(\u001b[0m\u001b[0mtimeout\u001b[0m\u001b[0;34m)\u001b[0m\u001b[0;34m:\u001b[0m\u001b[0;34m\u001b[0m\u001b[0;34m\u001b[0m\u001b[0m\n\u001b[0;32m--> 450\u001b[0;31m                 \u001b[0;32mreturn\u001b[0m \u001b[0mselect_ignore_interrupts\u001b[0m\u001b[0;34m(\u001b[0m\u001b[0;34m[\u001b[0m\u001b[0mself\u001b[0m\u001b[0;34m.\u001b[0m\u001b[0mchild_fd\u001b[0m\u001b[0;34m]\u001b[0m\u001b[0;34m,\u001b[0m \u001b[0;34m[\u001b[0m\u001b[0;34m]\u001b[0m\u001b[0;34m,\u001b[0m \u001b[0;34m[\u001b[0m\u001b[0;34m]\u001b[0m\u001b[0;34m,\u001b[0m \u001b[0mtimeout\u001b[0m\u001b[0;34m)\u001b[0m\u001b[0;34m[\u001b[0m\u001b[0;36m0\u001b[0m\u001b[0;34m]\u001b[0m\u001b[0;34m\u001b[0m\u001b[0;34m\u001b[0m\u001b[0m\n\u001b[0m\u001b[1;32m    451\u001b[0m \u001b[0;34m\u001b[0m\u001b[0m\n",
      "\u001b[0;32m~/miniconda3/envs/rlhw3/lib/python3.7/site-packages/pexpect/utils.py\u001b[0m in \u001b[0;36mselect_ignore_interrupts\u001b[0;34m(iwtd, owtd, ewtd, timeout)\u001b[0m\n\u001b[1;32m    142\u001b[0m         \u001b[0;32mtry\u001b[0m\u001b[0;34m:\u001b[0m\u001b[0;34m\u001b[0m\u001b[0;34m\u001b[0m\u001b[0m\n\u001b[0;32m--> 143\u001b[0;31m             \u001b[0;32mreturn\u001b[0m \u001b[0mselect\u001b[0m\u001b[0;34m.\u001b[0m\u001b[0mselect\u001b[0m\u001b[0;34m(\u001b[0m\u001b[0miwtd\u001b[0m\u001b[0;34m,\u001b[0m \u001b[0mowtd\u001b[0m\u001b[0;34m,\u001b[0m \u001b[0mewtd\u001b[0m\u001b[0;34m,\u001b[0m \u001b[0mtimeout\u001b[0m\u001b[0;34m)\u001b[0m\u001b[0;34m\u001b[0m\u001b[0;34m\u001b[0m\u001b[0m\n\u001b[0m\u001b[1;32m    144\u001b[0m         \u001b[0;32mexcept\u001b[0m \u001b[0mInterruptedError\u001b[0m\u001b[0;34m:\u001b[0m\u001b[0;34m\u001b[0m\u001b[0;34m\u001b[0m\u001b[0m\n",
      "\u001b[0;31mKeyboardInterrupt\u001b[0m: ",
      "\nDuring handling of the above exception, another exception occurred:\n",
      "\u001b[0;31mKeyboardInterrupt\u001b[0m                         Traceback (most recent call last)",
      "\u001b[0;32m/tmp/ipykernel_3807/4264183200.py\u001b[0m in \u001b[0;36m<module>\u001b[0;34m\u001b[0m\n\u001b[0;32m----> 1\u001b[0;31m \u001b[0mget_ipython\u001b[0m\u001b[0;34m(\u001b[0m\u001b[0;34m)\u001b[0m\u001b[0;34m.\u001b[0m\u001b[0msystem\u001b[0m\u001b[0;34m(\u001b[0m\u001b[0;34m'python pg/a2c/pong.py --log-dir ./log/a2c_pong'\u001b[0m\u001b[0;34m)\u001b[0m\u001b[0;34m\u001b[0m\u001b[0;34m\u001b[0m\u001b[0m\n\u001b[0m",
      "\u001b[0;32m~/miniconda3/envs/rlhw3/lib/python3.7/site-packages/ipykernel/zmqshell.py\u001b[0m in \u001b[0;36msystem_piped\u001b[0;34m(self, cmd)\u001b[0m\n\u001b[1;32m    631\u001b[0m                 \u001b[0mself\u001b[0m\u001b[0;34m.\u001b[0m\u001b[0muser_ns\u001b[0m\u001b[0;34m[\u001b[0m\u001b[0;34m\"_exit_code\"\u001b[0m\u001b[0;34m]\u001b[0m \u001b[0;34m=\u001b[0m \u001b[0msystem\u001b[0m\u001b[0;34m(\u001b[0m\u001b[0mcmd\u001b[0m\u001b[0;34m)\u001b[0m\u001b[0;34m\u001b[0m\u001b[0;34m\u001b[0m\u001b[0m\n\u001b[1;32m    632\u001b[0m         \u001b[0;32melse\u001b[0m\u001b[0;34m:\u001b[0m\u001b[0;34m\u001b[0m\u001b[0;34m\u001b[0m\u001b[0m\n\u001b[0;32m--> 633\u001b[0;31m             \u001b[0mself\u001b[0m\u001b[0;34m.\u001b[0m\u001b[0muser_ns\u001b[0m\u001b[0;34m[\u001b[0m\u001b[0;34m\"_exit_code\"\u001b[0m\u001b[0;34m]\u001b[0m \u001b[0;34m=\u001b[0m \u001b[0msystem\u001b[0m\u001b[0;34m(\u001b[0m\u001b[0mself\u001b[0m\u001b[0;34m.\u001b[0m\u001b[0mvar_expand\u001b[0m\u001b[0;34m(\u001b[0m\u001b[0mcmd\u001b[0m\u001b[0;34m,\u001b[0m \u001b[0mdepth\u001b[0m\u001b[0;34m=\u001b[0m\u001b[0;36m1\u001b[0m\u001b[0;34m)\u001b[0m\u001b[0;34m)\u001b[0m\u001b[0;34m\u001b[0m\u001b[0;34m\u001b[0m\u001b[0m\n\u001b[0m\u001b[1;32m    634\u001b[0m \u001b[0;34m\u001b[0m\u001b[0m\n\u001b[1;32m    635\u001b[0m     \u001b[0;31m# Ensure new system_piped implementation is used\u001b[0m\u001b[0;34m\u001b[0m\u001b[0;34m\u001b[0m\u001b[0;34m\u001b[0m\u001b[0m\n",
      "\u001b[0;32m~/miniconda3/envs/rlhw3/lib/python3.7/site-packages/IPython/utils/_process_posix.py\u001b[0m in \u001b[0;36msystem\u001b[0;34m(self, cmd)\u001b[0m\n\u001b[1;32m    184\u001b[0m             \u001b[0;32mfinally\u001b[0m\u001b[0;34m:\u001b[0m\u001b[0;34m\u001b[0m\u001b[0;34m\u001b[0m\u001b[0m\n\u001b[1;32m    185\u001b[0m                 \u001b[0;31m# Ensure the subprocess really is terminated\u001b[0m\u001b[0;34m\u001b[0m\u001b[0;34m\u001b[0m\u001b[0;34m\u001b[0m\u001b[0m\n\u001b[0;32m--> 186\u001b[0;31m                 \u001b[0mchild\u001b[0m\u001b[0;34m.\u001b[0m\u001b[0mterminate\u001b[0m\u001b[0;34m(\u001b[0m\u001b[0mforce\u001b[0m\u001b[0;34m=\u001b[0m\u001b[0;32mTrue\u001b[0m\u001b[0;34m)\u001b[0m\u001b[0;34m\u001b[0m\u001b[0;34m\u001b[0m\u001b[0m\n\u001b[0m\u001b[1;32m    187\u001b[0m         \u001b[0;31m# add isalive check, to ensure exitstatus is set:\u001b[0m\u001b[0;34m\u001b[0m\u001b[0;34m\u001b[0m\u001b[0;34m\u001b[0m\u001b[0m\n\u001b[1;32m    188\u001b[0m         \u001b[0mchild\u001b[0m\u001b[0;34m.\u001b[0m\u001b[0misalive\u001b[0m\u001b[0;34m(\u001b[0m\u001b[0;34m)\u001b[0m\u001b[0;34m\u001b[0m\u001b[0;34m\u001b[0m\u001b[0m\n",
      "\u001b[0;32m~/miniconda3/envs/rlhw3/lib/python3.7/site-packages/pexpect/pty_spawn.py\u001b[0m in \u001b[0;36mterminate\u001b[0;34m(self, force)\u001b[0m\n\u001b[1;32m    644\u001b[0m                 \u001b[0;32mreturn\u001b[0m \u001b[0;32mTrue\u001b[0m\u001b[0;34m\u001b[0m\u001b[0;34m\u001b[0m\u001b[0m\n\u001b[1;32m    645\u001b[0m             \u001b[0mself\u001b[0m\u001b[0;34m.\u001b[0m\u001b[0mkill\u001b[0m\u001b[0;34m(\u001b[0m\u001b[0msignal\u001b[0m\u001b[0;34m.\u001b[0m\u001b[0mSIGCONT\u001b[0m\u001b[0;34m)\u001b[0m\u001b[0;34m\u001b[0m\u001b[0;34m\u001b[0m\u001b[0m\n\u001b[0;32m--> 646\u001b[0;31m             \u001b[0mtime\u001b[0m\u001b[0;34m.\u001b[0m\u001b[0msleep\u001b[0m\u001b[0;34m(\u001b[0m\u001b[0mself\u001b[0m\u001b[0;34m.\u001b[0m\u001b[0mdelayafterterminate\u001b[0m\u001b[0;34m)\u001b[0m\u001b[0;34m\u001b[0m\u001b[0;34m\u001b[0m\u001b[0m\n\u001b[0m\u001b[1;32m    647\u001b[0m             \u001b[0;32mif\u001b[0m \u001b[0;32mnot\u001b[0m \u001b[0mself\u001b[0m\u001b[0;34m.\u001b[0m\u001b[0misalive\u001b[0m\u001b[0;34m(\u001b[0m\u001b[0;34m)\u001b[0m\u001b[0;34m:\u001b[0m\u001b[0;34m\u001b[0m\u001b[0;34m\u001b[0m\u001b[0m\n\u001b[1;32m    648\u001b[0m                 \u001b[0;32mreturn\u001b[0m \u001b[0;32mTrue\u001b[0m\u001b[0;34m\u001b[0m\u001b[0;34m\u001b[0m\u001b[0m\n",
      "\u001b[0;31mKeyboardInterrupt\u001b[0m: "
     ]
    }
   ],
   "source": [
    "!python pg/a2c/pong.py --log-dir ./log/a2c_pong"
   ]
  },
  {
   "cell_type": "code",
   "execution_count": null,
   "metadata": {
    "ExecuteTime": {
     "end_time": "2021-05-26T19:30:35.969247Z",
     "start_time": "2021-05-26T19:30:35.967449Z"
    }
   },
   "outputs": [],
   "source": [
    "# Plot Experiment 2"
   ]
  },
  {
   "cell_type": "code",
   "execution_count": null,
   "metadata": {},
   "outputs": [],
   "source": [
    "# Evaluate Pong 5 times\n",
    "import torch\n",
    "\n",
    "from pg.a2c.pong import make_env, GruNet\n",
    "from pg.a2c.model import A2C\n",
    "\n",
    "\n",
    "model_data = torch.load(\"models/pong.b\")\n",
    "env = make_env()\n",
    "in_size = env.observation_space.shape[0]\n",
    "out_size = env.action_space.n\n",
    "\n",
    "network = GruNet(in_size, out_size, model_data[\"args\"][\"hidden_size\"])\n",
    "model = A2C(network, None, None, None)\n",
    "model.load_state_dict(model_data[\"state_dict\"])\n",
    "model.evaluate(make_env, n_episodes=5)\n"
   ]
  },
  {
   "cell_type": "markdown",
   "metadata": {},
   "source": [
    "### PPO Implementation\n",
    "\n",
    "PPO is very similar to A2C in terms of implementation steps. Most of the structure is the same and you can follow the same order as you did in the A2C part. In PPO experiments, we will not use recurrent architecture as that makes the implementation a bit challenging. There are two experiments with PPO, LunarLander, and BipedalWalker. Note that, BipedalWalker is a continuous action space environment.\n",
    "\n",
    "#### Differences\n",
    "\n",
    "- ```parameter_update``` method updates the parameters multiple times, one per mini-batch.\n",
    "- Unlike in A2C, we have ```forward_given_actions``` method that is used within ```parameter_update``` method to calculate the log_probabilities, values, and entropies over multiple passes. Since, after every mini-batch, the parameters are updated we can not use the same log_probabilities and need to recalculate them.\n",
    "- ```rollout_data_loader``` method needs to yield mini-batches of rollout data as opposed to full rollout data.\n",
    "- You need to fill ```linear_annealing``` method that is used for scheduling ```clip_range``` parameter.\n",
    "\n",
    "#### Box2d\n",
    "\n",
    "Similar to A2C.\n",
    "\n",
    "#### BipedalWalker\n",
    "\n",
    "This is a continuous action space environment. Use normal distribution to represent action distributions. \n",
    "\n",
    "#### Experiments\n",
    "\n",
    "We will run two experiments each containing 3 runs as mentioned previously.\n",
    "\n",
    "- Run PPO in LunarLander-v2 (Reach at least +200 mean reward for the last 20 episodes)\n",
    "- Run PPO in BipedalWalker-v2 (Reach at least +100 mean reward for the last 20 episodes)\n",
    "\n",
    "> Notice: Recent gym versions may require BipedalWalker-v3 or BipedalWalker-v4 instead of BipedalWalker-v2. Please change it accordingly if necessary. \n",
    "\n",
    "Plot these results (2 Plots). Also **keep** the ```.csv``` files and the models (you can leave a Google Drive link for the model files)."
   ]
  },
  {
   "cell_type": "code",
   "execution_count": null,
   "metadata": {},
   "outputs": [],
   "source": [
    "!python pg/ppo/box2d.py --log-dir ./log/ppo_lunar"
   ]
  },
  {
   "cell_type": "code",
   "execution_count": null,
   "metadata": {},
   "outputs": [],
   "source": [
    "# Plot Experiment 1"
   ]
  },
  {
   "cell_type": "code",
   "execution_count": null,
   "metadata": {},
   "outputs": [],
   "source": [
    "!python pg/ppo/walker.py --log-dir ./log/ppo_walker"
   ]
  },
  {
   "cell_type": "code",
   "execution_count": null,
   "metadata": {},
   "outputs": [],
   "source": [
    "# Plot Experiment 2"
   ]
  },
  {
   "cell_type": "code",
   "execution_count": null,
   "metadata": {},
   "outputs": [],
   "source": [
    "# Evaluate Walker agent"
   ]
  },
  {
   "cell_type": "markdown",
   "metadata": {},
   "source": [
    "### Comparison\n",
    "\n",
    "Now that you completed the implementations you can compare the training performance of A2C and PPO.\n"
   ]
  },
  {
   "cell_type": "code",
   "execution_count": null,
   "metadata": {},
   "outputs": [],
   "source": [
    "import os\n",
    "import pandas as pd\n",
    "from pg.visualize import Plotter\n",
    "\n",
    "a2c_log_dir = os.path.join(\"log\", \"a2c_lunar\")\n",
    "ppo_log_dir = os.path.join(\"log\", \"ppo_lunar\")\n",
    "df_dict = {\n",
    "    \"a2c Lunarlander\": [pd.read_csv(os.path.join(a2c_log_dir, folder, \"progress.csv\"))\n",
    "                for folder in os.listdir(a2c_log_dir)],\n",
    "    \"ppo Lunarlander\": [pd.read_csv(os.path.join(ppo_log_dir, folder, \"progress.csv\"))\n",
    "                for folder in os.listdir(ppo_log_dir)],\n",
    "}\n",
    "\n",
    "plotter = Plotter(df_dict)\n",
    "plotter()"
   ]
  },
  {
   "cell_type": "markdown",
   "metadata": {},
   "source": [
    "#### Your comments (Bonus + 5)\n",
    "\n",
    "> Explain the score comparison you observe on Lunar Lander environment.\n",
    "\n",
    "> Explain the advantages and disadvantages of the methods you implemented within this homework"
   ]
  },
  {
   "cell_type": "markdown",
   "metadata": {},
   "source": []
  }
 ],
 "metadata": {
  "hide_input": false,
  "interpreter": {
   "hash": "f85d44ffe65ce8432b3617c9838c794aef0400c3f900fc98205a3b2fc959fc77"
  },
  "kernelspec": {
   "display_name": "Python 3 (ipykernel)",
   "language": "python",
   "name": "python3"
  },
  "language_info": {
   "codemirror_mode": {
    "name": "ipython",
    "version": 3
   },
   "file_extension": ".py",
   "mimetype": "text/x-python",
   "name": "python",
   "nbconvert_exporter": "python",
   "pygments_lexer": "ipython3",
   "version": "3.7.12"
  },
  "varInspector": {
   "cols": {
    "lenName": 16,
    "lenType": 16,
    "lenVar": 40
   },
   "kernels_config": {
    "python": {
     "delete_cmd_postfix": "",
     "delete_cmd_prefix": "del ",
     "library": "var_list.py",
     "varRefreshCmd": "print(var_dic_list())"
    },
    "r": {
     "delete_cmd_postfix": ") ",
     "delete_cmd_prefix": "rm(",
     "library": "var_list.r",
     "varRefreshCmd": "cat(var_dic_list()) "
    }
   },
   "types_to_exclude": [
    "module",
    "function",
    "builtin_function_or_method",
    "instance",
    "_Feature"
   ],
   "window_display": false
  }
 },
 "nbformat": 4,
 "nbformat_minor": 2
}
